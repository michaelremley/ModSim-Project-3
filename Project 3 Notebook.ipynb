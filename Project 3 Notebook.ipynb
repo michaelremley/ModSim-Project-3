{
 "cells": [
  {
   "cell_type": "markdown",
   "metadata": {},
   "source": [
    "# Emma and Michael's Dank Boio Modeling and Simulation in Python (Copyright Allen B. Downey) Project Number 3 in the Eleventh Month of the Two Thousand and Eighteenth Year"
   ]
  },
  {
   "cell_type": "code",
   "execution_count": 492,
   "metadata": {},
   "outputs": [],
   "source": [
    "# Configure Jupyter so figures appear in the notebook\n",
    "%matplotlib inline\n",
    "\n",
    "# Configure Jupyter to display the assigned value after an assignment\n",
    "%config InteractiveShell.ast_node_interactivity='last_expr_or_assign'\n",
    "\n",
    "# import functions from the modsim library\n",
    "from modsim import *\n",
    "import math"
   ]
  },
  {
   "cell_type": "code",
   "execution_count": 493,
   "metadata": {},
   "outputs": [
    {
     "data": {
      "text/html": [
       "<div>\n",
       "<style scoped>\n",
       "    .dataframe tbody tr th:only-of-type {\n",
       "        vertical-align: middle;\n",
       "    }\n",
       "\n",
       "    .dataframe tbody tr th {\n",
       "        vertical-align: top;\n",
       "    }\n",
       "\n",
       "    .dataframe thead th {\n",
       "        text-align: right;\n",
       "    }\n",
       "</style>\n",
       "<table border=\"1\" class=\"dataframe\">\n",
       "  <thead>\n",
       "    <tr style=\"text-align: right;\">\n",
       "      <th></th>\n",
       "      <th>values</th>\n",
       "    </tr>\n",
       "  </thead>\n",
       "  <tbody>\n",
       "    <tr>\n",
       "      <th>Me</th>\n",
       "      <td>5.972200e+24</td>\n",
       "    </tr>\n",
       "    <tr>\n",
       "      <th>Mm</th>\n",
       "      <td>7.342000e+22</td>\n",
       "    </tr>\n",
       "    <tr>\n",
       "      <th>x_m</th>\n",
       "      <td>3.626000e+08</td>\n",
       "    </tr>\n",
       "    <tr>\n",
       "      <th>y_m</th>\n",
       "      <td>0.000000e+00</td>\n",
       "    </tr>\n",
       "    <tr>\n",
       "      <th>vx_m</th>\n",
       "      <td>0.000000e+00</td>\n",
       "    </tr>\n",
       "    <tr>\n",
       "      <th>vy_m</th>\n",
       "      <td>1.078200e+03</td>\n",
       "    </tr>\n",
       "    <tr>\n",
       "      <th>x_e</th>\n",
       "      <td>0.000000e+00</td>\n",
       "    </tr>\n",
       "    <tr>\n",
       "      <th>y_e</th>\n",
       "      <td>0.000000e+00</td>\n",
       "    </tr>\n",
       "    <tr>\n",
       "      <th>vx_e</th>\n",
       "      <td>0.000000e+00</td>\n",
       "    </tr>\n",
       "    <tr>\n",
       "      <th>vy_e</th>\n",
       "      <td>0.000000e+00</td>\n",
       "    </tr>\n",
       "  </tbody>\n",
       "</table>\n",
       "</div>"
      ],
      "text/plain": [
       "Me      5.972200e+24\n",
       "Mm      7.342000e+22\n",
       "x_m     3.626000e+08\n",
       "y_m     0.000000e+00\n",
       "vx_m    0.000000e+00\n",
       "vy_m    1.078200e+03\n",
       "x_e     0.000000e+00\n",
       "y_e     0.000000e+00\n",
       "vx_e    0.000000e+00\n",
       "vy_e    0.000000e+00\n",
       "dtype: float64"
      ]
     },
     "execution_count": 493,
     "metadata": {},
     "output_type": "execute_result"
    }
   ],
   "source": [
    "x_0 = 362600000 # 362,600 km at perigee\n",
    "v_0 = 1078.2 # 1078.2 m/s at perigee\n",
    "Me_0 = 5.9722e24 # 5.9722×10^24 kg\n",
    "Mm_0 = 7.342e22 # 7.342×10^22 kg\n",
    "\n",
    "init = State(Me = Me_0, # Initial mass of earth\n",
    "             Mm = Mm_0, #Initial mass of moon\n",
    "             x_m=x_0, # 362,600 km at perigee\n",
    "             y_m=0,\n",
    "             vx_m=0,\n",
    "             vy_m=v_0, # 1078.2 m/s at perigee\n",
    "             x_e = 0,\n",
    "             y_e = 0,\n",
    "             vx_e = 0,\n",
    "             vy_e = 0\n",
    "            )\n"
   ]
  },
  {
   "cell_type": "code",
   "execution_count": 494,
   "metadata": {},
   "outputs": [
    {
     "data": {
      "text/html": [
       "<div>\n",
       "<style scoped>\n",
       "    .dataframe tbody tr th:only-of-type {\n",
       "        vertical-align: middle;\n",
       "    }\n",
       "\n",
       "    .dataframe tbody tr th {\n",
       "        vertical-align: top;\n",
       "    }\n",
       "\n",
       "    .dataframe thead th {\n",
       "        text-align: right;\n",
       "    }\n",
       "</style>\n",
       "<table border=\"1\" class=\"dataframe\">\n",
       "  <thead>\n",
       "    <tr style=\"text-align: right;\">\n",
       "      <th></th>\n",
       "      <th>values</th>\n",
       "    </tr>\n",
       "  </thead>\n",
       "  <tbody>\n",
       "    <tr>\n",
       "      <th>init</th>\n",
       "      <td>Me      5.972200e+24\n",
       "Mm      7.342000e+22\n",
       "x_m ...</td>\n",
       "    </tr>\n",
       "    <tr>\n",
       "      <th>dmdt</th>\n",
       "      <td>6.54e+14</td>\n",
       "    </tr>\n",
       "    <tr>\n",
       "      <th>r_e</th>\n",
       "      <td>&lt;function earth_radius at 0x000001F979709048&gt;</td>\n",
       "    </tr>\n",
       "    <tr>\n",
       "      <th>r_m</th>\n",
       "      <td>&lt;function moon_radius at 0x000001F97ACBE0D0&gt;</td>\n",
       "    </tr>\n",
       "    <tr>\n",
       "      <th>G</th>\n",
       "      <td>6.674e-11</td>\n",
       "    </tr>\n",
       "    <tr>\n",
       "      <th>t_0</th>\n",
       "      <td>0</td>\n",
       "    </tr>\n",
       "    <tr>\n",
       "      <th>t_end</th>\n",
       "      <td>315360000</td>\n",
       "    </tr>\n",
       "  </tbody>\n",
       "</table>\n",
       "</div>"
      ],
      "text/plain": [
       "init     Me      5.972200e+24\n",
       "Mm      7.342000e+22\n",
       "x_m ...\n",
       "dmdt                                              6.54e+14\n",
       "r_e          <function earth_radius at 0x000001F979709048>\n",
       "r_m           <function moon_radius at 0x000001F97ACBE0D0>\n",
       "G                                                6.674e-11\n",
       "t_0                                                      0\n",
       "t_end                                            315360000\n",
       "dtype: object"
      ]
     },
     "execution_count": 494,
     "metadata": {},
     "output_type": "execute_result"
    }
   ],
   "source": [
    "num_rockets = 1e8\n",
    "\n",
    "def earth_radius(mass):\n",
    "    density = 5514 # 5514 kg/m3 from NASA Earth Fact Sheet\n",
    "    Re = (3*mass / (4*pi*density))**(1/3)\n",
    "    return Re\n",
    "\n",
    "def moon_radius(mass):\n",
    "    density = 3344 # 3344 kg/m3 from NASA Moon Fact Sheet\n",
    "    Rm = (3*mass / (4*pi*density))**(1/3)\n",
    "    return Rm\n",
    "\n",
    "system = System(init=init,\n",
    "                dmdt = 6.54e6*num_rockets, #kg/s,\n",
    "                r_e = earth_radius,\n",
    "                r_m = moon_radius,\n",
    "                G=6.674e-11, #N / kg**2 * m**2\n",
    "                t_0=0,\n",
    "                t_end=10*365*24*60*60) "
   ]
  },
  {
   "cell_type": "code",
   "execution_count": 495,
   "metadata": {},
   "outputs": [],
   "source": [
    "def net_force_moon(state, system):\n",
    "    \"\"\"Computes gravitational force.\n",
    "    \n",
    "    state: State object with distance r\n",
    "    system: System object with m1, m2, and G\n",
    "    \"\"\"\n",
    "    Me,Mm,x_m,y_m,vx_m,vy_m,x_e,y_e,vx_e,vy_e = state\n",
    "    unpack(system)\n",
    "    \n",
    "    #Gravitational Force\n",
    "    r = sqrt((x_m-x_e)**2 + (y_m-y_e)**2)\n",
    "    force= G * Me * Mm / r**2\n",
    "    direction = math.atan2(y_m-y_e,x_m-x_e) + pi \n",
    "    gravitational_force = Vector(force * math.cos(direction), force*math.sin(direction) )\n",
    "    \n",
    "    # Moon momentum contribution\n",
    "    collision_force = dmdt * -(Vector(vx_m,vy_m))\n",
    "    \n",
    "    return gravitational_force + collision_force"
   ]
  },
  {
   "cell_type": "code",
   "execution_count": 496,
   "metadata": {},
   "outputs": [],
   "source": [
    "def net_force_earth(state, system):\n",
    "    \"\"\"Computes gravitational force.\n",
    "    \n",
    "    state: State object with distance r\n",
    "    system: System object with m1, m2, and G\n",
    "    \"\"\"\n",
    "    Me,Mm,x_m,y_m,vx_m,vy_m,x_e,y_e,vx_e,vy_e = state\n",
    "    unpack(system)\n",
    "    \n",
    "    #Gravitational Force\n",
    "    r = sqrt((x_m-x_e)**2 + (y_m-y_e)**2)\n",
    "    force= G * Me * Mm / r**2\n",
    "    direction = math.atan2(y_m-y_e,x_m-x_e)\n",
    "    gravitational_force = Vector(force * math.cos(direction), force*math.sin(direction) )\n",
    "    \n",
    "    return gravitational_force"
   ]
  },
  {
   "cell_type": "code",
   "execution_count": 497,
   "metadata": {},
   "outputs": [
    {
     "name": "stdout",
     "output_type": "stream",
     "text": [
      "[-2.22576509e+20 -7.05142800e+17] dimensionless\n",
      "[2.22576509e+20 0.00000000e+00] dimensionless\n"
     ]
    }
   ],
   "source": [
    "print(net_force_moon(init, system))\n",
    "print(net_force_earth(init, system))"
   ]
  },
  {
   "cell_type": "code",
   "execution_count": 498,
   "metadata": {},
   "outputs": [],
   "source": [
    "def slope_func(state,t,system):\n",
    "    \n",
    "    Me,Mm,x_m,y_m,vx_m,vy_m,x_e,y_e,vx_e,vy_e = state\n",
    "    unpack(system)\n",
    "    V_m = Vector(vx_m,vy_m)\n",
    "    V_e = Vector(vx_e,vy_e)\n",
    "    \n",
    "    Fnet_m = net_force_moon(state,system)\n",
    "    Fnet_e = net_force_earth(state,system)\n",
    "    \n",
    "    dMedt = -dmdt\n",
    "    dMmdt = dmdt\n",
    "    dxdt_m = V_m\n",
    "    dvdt_m = Fnet_m / Mm\n",
    "    dxdt_e = V_e\n",
    "    dvdt_e = Fnet_e / Me\n",
    "    \n",
    "    return dMedt, dMmdt, dxdt_m[0], dxdt_m[1], dvdt_m[0], dvdt_m[1], dxdt_e[0], dxdt_e[1], dvdt_e[0], dvdt_e[1],"
   ]
  },
  {
   "cell_type": "code",
   "execution_count": 499,
   "metadata": {},
   "outputs": [
    {
     "data": {
      "text/plain": [
       "(-654000000000000.0,\n",
       " 654000000000000.0,\n",
       " <Quantity(0.0, 'dimensionless')>,\n",
       " <Quantity(1078.2, 'dimensionless')>,\n",
       " <Quantity(-0.0030315514688456138, 'dimensionless')>,\n",
       " <Quantity(-9.604233178969938e-06, 'dimensionless')>,\n",
       " <Quantity(0.0, 'dimensionless')>,\n",
       " <Quantity(0.0, 'dimensionless')>,\n",
       " <Quantity(3.726876341091138e-05, 'dimensionless')>,\n",
       " <Quantity(0.0, 'dimensionless')>)"
      ]
     },
     "execution_count": 499,
     "metadata": {},
     "output_type": "execute_result"
    }
   ],
   "source": [
    "slope_func(init, 0, system)"
   ]
  },
  {
   "cell_type": "code",
   "execution_count": 500,
   "metadata": {},
   "outputs": [],
   "source": [
    "def event_func(state,t,system):\n",
    "    Me,Mm,x_m,y_m,vx_m,vy_m,x_e,y_e,vx_e,vy_e = state\n",
    "    unpack(system)\n",
    "   \n",
    "    r = sqrt(x_m**2 + y_m**2)\n",
    "    r_collision = earth_radius(Me) + moon_radius(Mm)\n",
    "    \n",
    "    return r - r_collision\n",
    "\n",
    "def event_func(state,t,system):\n",
    "    Me,Mm,x_m,y_m,vx_m,vy_m,x_e,y_e,vx_e,vy_e = state\n",
    "    unpack(system)\n",
    "   \n",
    "    r = sqrt((x_m-x_e)**2 + (y_m-y_e)**2)\n",
    "    collision_radius = earth_radius(Me) + moon_radius(Mm)\n",
    "    \n",
    "    #End the simulart if there is a collision OR if the orbital radius exceeds its initial value at apogee\n",
    "    if(Me < 0):\n",
    "        print('Negative mass is really sad...')\n",
    "        return 0\n",
    "    elif(r > 0.4055e10): # e9 originally\n",
    "        print('The moon escaped our experiment!')\n",
    "        return 0\n",
    "    else:\n",
    "        return r - collision_radius\n"
   ]
  },
  {
   "cell_type": "code",
   "execution_count": 501,
   "metadata": {},
   "outputs": [
    {
     "data": {
      "text/plain": [
       "354492134.3300541"
      ]
     },
     "execution_count": 501,
     "metadata": {},
     "output_type": "execute_result"
    }
   ],
   "source": [
    "event_func(init,0,system)"
   ]
  },
  {
   "cell_type": "code",
   "execution_count": 502,
   "metadata": {},
   "outputs": [
    {
     "data": {
      "text/html": [
       "<div>\n",
       "<style scoped>\n",
       "    .dataframe tbody tr th:only-of-type {\n",
       "        vertical-align: middle;\n",
       "    }\n",
       "\n",
       "    .dataframe tbody tr th {\n",
       "        vertical-align: top;\n",
       "    }\n",
       "\n",
       "    .dataframe thead th {\n",
       "        text-align: right;\n",
       "    }\n",
       "</style>\n",
       "<table border=\"1\" class=\"dataframe\">\n",
       "  <thead>\n",
       "    <tr style=\"text-align: right;\">\n",
       "      <th></th>\n",
       "      <th>values</th>\n",
       "    </tr>\n",
       "  </thead>\n",
       "  <tbody>\n",
       "    <tr>\n",
       "      <th>sol</th>\n",
       "      <td>None</td>\n",
       "    </tr>\n",
       "    <tr>\n",
       "      <th>t_events</th>\n",
       "      <td>[[179479024.35511008]]</td>\n",
       "    </tr>\n",
       "    <tr>\n",
       "      <th>nfev</th>\n",
       "      <td>43996</td>\n",
       "    </tr>\n",
       "    <tr>\n",
       "      <th>njev</th>\n",
       "      <td>290</td>\n",
       "    </tr>\n",
       "    <tr>\n",
       "      <th>nlu</th>\n",
       "      <td>290</td>\n",
       "    </tr>\n",
       "    <tr>\n",
       "      <th>status</th>\n",
       "      <td>1</td>\n",
       "    </tr>\n",
       "    <tr>\n",
       "      <th>message</th>\n",
       "      <td>A termination event occurred.</td>\n",
       "    </tr>\n",
       "    <tr>\n",
       "      <th>success</th>\n",
       "      <td>True</td>\n",
       "    </tr>\n",
       "  </tbody>\n",
       "</table>\n",
       "</div>"
      ],
      "text/plain": [
       "sol                                  None\n",
       "t_events           [[179479024.35511008]]\n",
       "nfev                                43996\n",
       "njev                                  290\n",
       "nlu                                   290\n",
       "status                                  1\n",
       "message     A termination event occurred.\n",
       "success                              True\n",
       "dtype: object"
      ]
     },
     "execution_count": 502,
     "metadata": {},
     "output_type": "execute_result"
    }
   ],
   "source": [
    "results, details = run_ode_solver(system, slope_func,events=event_func, method=\"LSODA\")\n",
    "details"
   ]
  },
  {
   "cell_type": "code",
   "execution_count": 503,
   "metadata": {},
   "outputs": [],
   "source": [
    "results.index /= 24*60*60"
   ]
  },
  {
   "cell_type": "code",
   "execution_count": 504,
   "metadata": {},
   "outputs": [
    {
     "data": {
      "text/plain": [
       "[<matplotlib.lines.Line2D at 0x1f97c16df28>]"
      ]
     },
     "execution_count": 504,
     "metadata": {},
     "output_type": "execute_result"
    },
    {
     "data": {
      "image/png": "[encoded data removed]",
      "text/plain": [
       "<Figure size 432x288 with 1 Axes>"
      ]
     },
     "metadata": {
      "needs_background": "light"
     },
     "output_type": "display_data"
    }
   ],
   "source": [
    "plot(results.x_m,results.y_m)\n",
    "plot(results.x_e,results.y_e)"
   ]
  },
  {
   "cell_type": "code",
   "execution_count": 505,
   "metadata": {},
   "outputs": [
    {
     "data": {
      "text/plain": [
       "[<matplotlib.lines.Line2D at 0x1f97c100240>]"
      ]
     },
     "execution_count": 505,
     "metadata": {},
     "output_type": "execute_result"
    },
    {
     "data": {
      "image/png": "[encoded data removed]",
      "text/plain": [
       "<Figure size 432x288 with 1 Axes>"
      ]
     },
     "metadata": {
      "needs_background": "light"
     },
     "output_type": "display_data"
    }
   ],
   "source": [
    "plot(results.x_e,results.y_e)"
   ]
  },
  {
   "cell_type": "code",
   "execution_count": 506,
   "metadata": {},
   "outputs": [
    {
     "data": {
      "text/plain": [
       "2077.303522628589"
      ]
     },
     "execution_count": 506,
     "metadata": {},
     "output_type": "execute_result"
    }
   ],
   "source": [
    "results.index[-1]"
   ]
  },
  {
   "cell_type": "code",
   "execution_count": 507,
   "metadata": {},
   "outputs": [
    {
     "data": {
      "text/html": [
       "<div>\n",
       "<style scoped>\n",
       "    .dataframe tbody tr th:only-of-type {\n",
       "        vertical-align: middle;\n",
       "    }\n",
       "\n",
       "    .dataframe tbody tr th {\n",
       "        vertical-align: top;\n",
       "    }\n",
       "\n",
       "    .dataframe thead th {\n",
       "        text-align: right;\n",
       "    }\n",
       "</style>\n",
       "<table border=\"1\" class=\"dataframe\">\n",
       "  <thead>\n",
       "    <tr style=\"text-align: right;\">\n",
       "      <th></th>\n",
       "      <th>Me</th>\n",
       "      <th>Mm</th>\n",
       "      <th>x_m</th>\n",
       "      <th>y_m</th>\n",
       "      <th>vx_m</th>\n",
       "      <th>vy_m</th>\n",
       "      <th>x_e</th>\n",
       "      <th>y_e</th>\n",
       "      <th>vx_e</th>\n",
       "      <th>vy_e</th>\n",
       "    </tr>\n",
       "  </thead>\n",
       "  <tbody>\n",
       "    <tr>\n",
       "      <th>0.000000e+00</th>\n",
       "      <td>5.972200e+24</td>\n",
       "      <td>7.342000e+22</td>\n",
       "      <td>362600000.0</td>\n",
       "      <td>0.000000</td>\n",
       "      <td>0.000000e+00</td>\n",
       "      <td>1078.2</td>\n",
       "      <td>0.000000e+00</td>\n",
       "      <td>0.000000e+00</td>\n",
       "      <td>0.000000e+00</td>\n",
       "      <td>0.000000e+00</td>\n",
       "    </tr>\n",
       "    <tr>\n",
       "      <th>3.394587e-13</th>\n",
       "      <td>5.972200e+24</td>\n",
       "      <td>7.342000e+22</td>\n",
       "      <td>362600000.0</td>\n",
       "      <td>0.000032</td>\n",
       "      <td>-8.891307e-11</td>\n",
       "      <td>1078.2</td>\n",
       "      <td>3.205873e-20</td>\n",
       "      <td>0.000000e+00</td>\n",
       "      <td>1.093064e-12</td>\n",
       "      <td>9.532742e-26</td>\n",
       "    </tr>\n",
       "    <tr>\n",
       "      <th>6.789174e-13</th>\n",
       "      <td>5.972200e+24</td>\n",
       "      <td>7.342000e+22</td>\n",
       "      <td>362600000.0</td>\n",
       "      <td>0.000063</td>\n",
       "      <td>-1.778261e-10</td>\n",
       "      <td>1078.2</td>\n",
       "      <td>9.617619e-20</td>\n",
       "      <td>5.591760e-33</td>\n",
       "      <td>2.186128e-12</td>\n",
       "      <td>2.859823e-25</td>\n",
       "    </tr>\n",
       "    <tr>\n",
       "      <th>3.395266e-09</th>\n",
       "      <td>5.972200e+24</td>\n",
       "      <td>7.342000e+22</td>\n",
       "      <td>362600000.0</td>\n",
       "      <td>0.316291</td>\n",
       "      <td>-8.893086e-07</td>\n",
       "      <td>1078.2</td>\n",
       "      <td>1.603578e-12</td>\n",
       "      <td>6.992497e-22</td>\n",
       "      <td>1.093283e-08</td>\n",
       "      <td>4.768278e-18</td>\n",
       "    </tr>\n",
       "    <tr>\n",
       "      <th>6.789853e-09</th>\n",
       "      <td>5.972200e+24</td>\n",
       "      <td>7.342000e+22</td>\n",
       "      <td>362600000.0</td>\n",
       "      <td>0.632519</td>\n",
       "      <td>-1.778439e-06</td>\n",
       "      <td>1078.2</td>\n",
       "      <td>6.413029e-12</td>\n",
       "      <td>4.194939e-21</td>\n",
       "      <td>2.186347e-08</td>\n",
       "      <td>1.906930e-17</td>\n",
       "    </tr>\n",
       "  </tbody>\n",
       "</table>\n",
       "</div>"
      ],
      "text/plain": [
       "                        Me            Mm          x_m       y_m          vx_m  \\\n",
       "0.000000e+00  5.972200e+24  7.342000e+22  362600000.0  0.000000  0.000000e+00   \n",
       "3.394587e-13  5.972200e+24  7.342000e+22  362600000.0  0.000032 -8.891307e-11   \n",
       "6.789174e-13  5.972200e+24  7.342000e+22  362600000.0  0.000063 -1.778261e-10   \n",
       "3.395266e-09  5.972200e+24  7.342000e+22  362600000.0  0.316291 -8.893086e-07   \n",
       "6.789853e-09  5.972200e+24  7.342000e+22  362600000.0  0.632519 -1.778439e-06   \n",
       "\n",
       "                vy_m           x_e           y_e          vx_e          vy_e  \n",
       "0.000000e+00  1078.2  0.000000e+00  0.000000e+00  0.000000e+00  0.000000e+00  \n",
       "3.394587e-13  1078.2  3.205873e-20  0.000000e+00  1.093064e-12  9.532742e-26  \n",
       "6.789174e-13  1078.2  9.617619e-20  5.591760e-33  2.186128e-12  2.859823e-25  \n",
       "3.395266e-09  1078.2  1.603578e-12  6.992497e-22  1.093283e-08  4.768278e-18  \n",
       "6.789853e-09  1078.2  6.413029e-12  4.194939e-21  2.186347e-08  1.906930e-17  "
      ]
     },
     "execution_count": 507,
     "metadata": {},
     "output_type": "execute_result"
    }
   ],
   "source": [
    "results.head()"
   ]
  },
  {
   "cell_type": "code",
   "execution_count": 508,
   "metadata": {},
   "outputs": [
    {
     "data": {
      "text/html": [
       "<div>\n",
       "<style scoped>\n",
       "    .dataframe tbody tr th:only-of-type {\n",
       "        vertical-align: middle;\n",
       "    }\n",
       "\n",
       "    .dataframe tbody tr th {\n",
       "        vertical-align: top;\n",
       "    }\n",
       "\n",
       "    .dataframe thead th {\n",
       "        text-align: right;\n",
       "    }\n",
       "</style>\n",
       "<table border=\"1\" class=\"dataframe\">\n",
       "  <thead>\n",
       "    <tr style=\"text-align: right;\">\n",
       "      <th></th>\n",
       "      <th>Me</th>\n",
       "      <th>Mm</th>\n",
       "      <th>x_m</th>\n",
       "      <th>y_m</th>\n",
       "      <th>vx_m</th>\n",
       "      <th>vy_m</th>\n",
       "      <th>x_e</th>\n",
       "      <th>y_e</th>\n",
       "      <th>vx_e</th>\n",
       "      <th>vy_e</th>\n",
       "    </tr>\n",
       "  </thead>\n",
       "  <tbody>\n",
       "    <tr>\n",
       "      <th>2077.295405</th>\n",
       "      <td>5.854821e+24</td>\n",
       "      <td>1.907988e+23</td>\n",
       "      <td>8.544917e+06</td>\n",
       "      <td>2.318776e+09</td>\n",
       "      <td>6106.267208</td>\n",
       "      <td>5710.432611</td>\n",
       "      <td>4.790879e+06</td>\n",
       "      <td>2.328144e+09</td>\n",
       "      <td>-198.991774</td>\n",
       "      <td>-172.839286</td>\n",
       "    </tr>\n",
       "    <tr>\n",
       "      <th>2077.297671</th>\n",
       "      <td>5.854821e+24</td>\n",
       "      <td>1.907990e+23</td>\n",
       "      <td>9.708135e+06</td>\n",
       "      <td>2.319963e+09</td>\n",
       "      <td>5750.066621</td>\n",
       "      <td>6422.027965</td>\n",
       "      <td>4.752972e+06</td>\n",
       "      <td>2.328108e+09</td>\n",
       "      <td>-187.383918</td>\n",
       "      <td>-196.029129</td>\n",
       "    </tr>\n",
       "    <tr>\n",
       "      <th>2077.299938</th>\n",
       "      <td>5.854821e+24</td>\n",
       "      <td>1.907991e+23</td>\n",
       "      <td>1.078537e+07</td>\n",
       "      <td>2.321290e+09</td>\n",
       "      <td>5224.690136</td>\n",
       "      <td>7130.449884</td>\n",
       "      <td>4.717867e+06</td>\n",
       "      <td>2.328068e+09</td>\n",
       "      <td>-170.262880</td>\n",
       "      <td>-219.115585</td>\n",
       "    </tr>\n",
       "    <tr>\n",
       "      <th>2077.302204</th>\n",
       "      <td>5.854821e+24</td>\n",
       "      <td>1.907992e+23</td>\n",
       "      <td>1.174238e+07</td>\n",
       "      <td>2.322750e+09</td>\n",
       "      <td>4520.682020</td>\n",
       "      <td>7775.881896</td>\n",
       "      <td>4.686680e+06</td>\n",
       "      <td>2.328023e+09</td>\n",
       "      <td>-147.320501</td>\n",
       "      <td>-240.149334</td>\n",
       "    </tr>\n",
       "    <tr>\n",
       "      <th>2077.303523</th>\n",
       "      <td>5.854821e+24</td>\n",
       "      <td>1.907993e+23</td>\n",
       "      <td>1.223053e+07</td>\n",
       "      <td>2.323655e+09</td>\n",
       "      <td>4036.677047</td>\n",
       "      <td>8095.026953</td>\n",
       "      <td>4.670772e+06</td>\n",
       "      <td>2.327995e+09</td>\n",
       "      <td>-131.547607</td>\n",
       "      <td>-250.549861</td>\n",
       "    </tr>\n",
       "  </tbody>\n",
       "</table>\n",
       "</div>"
      ],
      "text/plain": [
       "                       Me            Mm           x_m           y_m  \\\n",
       "2077.295405  5.854821e+24  1.907988e+23  8.544917e+06  2.318776e+09   \n",
       "2077.297671  5.854821e+24  1.907990e+23  9.708135e+06  2.319963e+09   \n",
       "2077.299938  5.854821e+24  1.907991e+23  1.078537e+07  2.321290e+09   \n",
       "2077.302204  5.854821e+24  1.907992e+23  1.174238e+07  2.322750e+09   \n",
       "2077.303523  5.854821e+24  1.907993e+23  1.223053e+07  2.323655e+09   \n",
       "\n",
       "                    vx_m         vy_m           x_e           y_e        vx_e  \\\n",
       "2077.295405  6106.267208  5710.432611  4.790879e+06  2.328144e+09 -198.991774   \n",
       "2077.297671  5750.066621  6422.027965  4.752972e+06  2.328108e+09 -187.383918   \n",
       "2077.299938  5224.690136  7130.449884  4.717867e+06  2.328068e+09 -170.262880   \n",
       "2077.302204  4520.682020  7775.881896  4.686680e+06  2.328023e+09 -147.320501   \n",
       "2077.303523  4036.677047  8095.026953  4.670772e+06  2.327995e+09 -131.547607   \n",
       "\n",
       "                   vy_e  \n",
       "2077.295405 -172.839286  \n",
       "2077.297671 -196.029129  \n",
       "2077.299938 -219.115585  \n",
       "2077.302204 -240.149334  \n",
       "2077.303523 -250.549861  "
      ]
     },
     "execution_count": 508,
     "metadata": {},
     "output_type": "execute_result"
    }
   ],
   "source": [
    "results.tail()"
   ]
  },
  {
   "cell_type": "code",
   "execution_count": null,
   "metadata": {},
   "outputs": [],
   "source": []
  }
 ],
 "metadata": {
  "kernelspec": {
   "display_name": "Python 3",
   "language": "python",
   "name": "python3"
  },
  "language_info": {
   "codemirror_mode": {
    "name": "ipython",
    "version": 3
   },
   "file_extension": ".py",
   "mimetype": "text/x-python",
   "name": "python",
   "nbconvert_exporter": "python",
   "pygments_lexer": "ipython3",
   "version": "3.6.6"
  }
 },
 "nbformat": 4,
 "nbformat_minor": 2
}
