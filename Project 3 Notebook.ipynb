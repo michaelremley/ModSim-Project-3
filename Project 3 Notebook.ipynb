{
 "cells": [
  {
   "cell_type": "markdown",
   "metadata": {},
   "source": [
    "# Emma and Michael's Dank Boio Modeling and Simulation in Python (Copyright Allen B. Downey) Project Number 3 in the Eleventh Month of the Two Thousand and Eighteenth Year"
   ]
  },
  {
   "cell_type": "code",
   "execution_count": 1,
   "metadata": {},
   "outputs": [],
   "source": [
    "# Configure Jupyter so figures appear in the notebook\n",
    "%matplotlib inline\n",
    "\n",
    "# Configure Jupyter to display the assigned value after an assignment\n",
    "%config InteractiveShell.ast_node_interactivity='last_expr_or_assign'\n",
    "\n",
    "# import functions from the modsim library\n",
    "from modsim import *\n",
    "import math"
   ]
  },
  {
   "cell_type": "code",
   "execution_count": 2,
   "metadata": {},
   "outputs": [
    {
     "data": {
      "text/html": [
       "<div>\n",
       "<style scoped>\n",
       "    .dataframe tbody tr th:only-of-type {\n",
       "        vertical-align: middle;\n",
       "    }\n",
       "\n",
       "    .dataframe tbody tr th {\n",
       "        vertical-align: top;\n",
       "    }\n",
       "\n",
       "    .dataframe thead th {\n",
       "        text-align: right;\n",
       "    }\n",
       "</style>\n",
       "<table border=\"1\" class=\"dataframe\">\n",
       "  <thead>\n",
       "    <tr style=\"text-align: right;\">\n",
       "      <th></th>\n",
       "      <th>values</th>\n",
       "    </tr>\n",
       "  </thead>\n",
       "  <tbody>\n",
       "    <tr>\n",
       "      <th>Me</th>\n",
       "      <td>5.972200e+24</td>\n",
       "    </tr>\n",
       "    <tr>\n",
       "      <th>Mm</th>\n",
       "      <td>7.342000e+22</td>\n",
       "    </tr>\n",
       "    <tr>\n",
       "      <th>x_m</th>\n",
       "      <td>3.626000e+08</td>\n",
       "    </tr>\n",
       "    <tr>\n",
       "      <th>y_m</th>\n",
       "      <td>0.000000e+00</td>\n",
       "    </tr>\n",
       "    <tr>\n",
       "      <th>vx_m</th>\n",
       "      <td>0.000000e+00</td>\n",
       "    </tr>\n",
       "    <tr>\n",
       "      <th>vy_m</th>\n",
       "      <td>1.078200e+03</td>\n",
       "    </tr>\n",
       "    <tr>\n",
       "      <th>x_e</th>\n",
       "      <td>0.000000e+00</td>\n",
       "    </tr>\n",
       "    <tr>\n",
       "      <th>y_e</th>\n",
       "      <td>0.000000e+00</td>\n",
       "    </tr>\n",
       "    <tr>\n",
       "      <th>vx_e</th>\n",
       "      <td>0.000000e+00</td>\n",
       "    </tr>\n",
       "    <tr>\n",
       "      <th>vy_e</th>\n",
       "      <td>0.000000e+00</td>\n",
       "    </tr>\n",
       "  </tbody>\n",
       "</table>\n",
       "</div>"
      ],
      "text/plain": [
       "Me      5.972200e+24\n",
       "Mm      7.342000e+22\n",
       "x_m     3.626000e+08\n",
       "y_m     0.000000e+00\n",
       "vx_m    0.000000e+00\n",
       "vy_m    1.078200e+03\n",
       "x_e     0.000000e+00\n",
       "y_e     0.000000e+00\n",
       "vx_e    0.000000e+00\n",
       "vy_e    0.000000e+00\n",
       "dtype: float64"
      ]
     },
     "execution_count": 2,
     "metadata": {},
     "output_type": "execute_result"
    }
   ],
   "source": [
    "x_0 = 362600000 # 362,600 km at perigee\n",
    "v_0 = 1078.2 # 1078.2 m/s at perigee\n",
    "Me_0 = 5.9722e24 # 5.9722×10^24 kg\n",
    "Mm_0 = 7.342e22 # 7.342×10^22 kg\n",
    "\n",
    "init = State(Me = Me_0, # Initial mass of earth\n",
    "             Mm = Mm_0, #Initial mass of moon\n",
    "             x_m=x_0, # 362,600 km at perigee\n",
    "             y_m=0,\n",
    "             vx_m=0,\n",
    "             vy_m=v_0, # 1078.2 m/s at perigee\n",
    "             x_e = 0,\n",
    "             y_e = 0,\n",
    "             vx_e = 0,\n",
    "             vy_e = 0\n",
    "            )\n"
   ]
  },
  {
   "cell_type": "code",
   "execution_count": 3,
   "metadata": {},
   "outputs": [
    {
     "data": {
      "text/html": [
       "<div>\n",
       "<style scoped>\n",
       "    .dataframe tbody tr th:only-of-type {\n",
       "        vertical-align: middle;\n",
       "    }\n",
       "\n",
       "    .dataframe tbody tr th {\n",
       "        vertical-align: top;\n",
       "    }\n",
       "\n",
       "    .dataframe thead th {\n",
       "        text-align: right;\n",
       "    }\n",
       "</style>\n",
       "<table border=\"1\" class=\"dataframe\">\n",
       "  <thead>\n",
       "    <tr style=\"text-align: right;\">\n",
       "      <th></th>\n",
       "      <th>values</th>\n",
       "    </tr>\n",
       "  </thead>\n",
       "  <tbody>\n",
       "    <tr>\n",
       "      <th>init</th>\n",
       "      <td>Me      5.972200e+24\n",
       "Mm      7.342000e+22\n",
       "x_m ...</td>\n",
       "    </tr>\n",
       "    <tr>\n",
       "      <th>dmdt</th>\n",
       "      <td>6.54e+16</td>\n",
       "    </tr>\n",
       "    <tr>\n",
       "      <th>r_e</th>\n",
       "      <td>&lt;function earth_radius at 0x0000028FD1DB6730&gt;</td>\n",
       "    </tr>\n",
       "    <tr>\n",
       "      <th>r_m</th>\n",
       "      <td>&lt;function moon_radius at 0x0000028FD1DB66A8&gt;</td>\n",
       "    </tr>\n",
       "    <tr>\n",
       "      <th>G</th>\n",
       "      <td>6.674e-11</td>\n",
       "    </tr>\n",
       "    <tr>\n",
       "      <th>t_0</th>\n",
       "      <td>0</td>\n",
       "    </tr>\n",
       "    <tr>\n",
       "      <th>t_end</th>\n",
       "      <td>3153600000</td>\n",
       "    </tr>\n",
       "  </tbody>\n",
       "</table>\n",
       "</div>"
      ],
      "text/plain": [
       "init     Me      5.972200e+24\n",
       "Mm      7.342000e+22\n",
       "x_m ...\n",
       "dmdt                                              6.54e+16\n",
       "r_e          <function earth_radius at 0x0000028FD1DB6730>\n",
       "r_m           <function moon_radius at 0x0000028FD1DB66A8>\n",
       "G                                                6.674e-11\n",
       "t_0                                                      0\n",
       "t_end                                           3153600000\n",
       "dtype: object"
      ]
     },
     "execution_count": 3,
     "metadata": {},
     "output_type": "execute_result"
    }
   ],
   "source": [
    "num_rockets = 1e10\n",
    "\n",
    "def earth_radius(mass):\n",
    "    density = 5514 # 5514 kg/m3 from NASA Earth Fact Sheet\n",
    "    Re = (3*mass / (4*pi*density))**(1/3)\n",
    "    return Re\n",
    "\n",
    "def moon_radius(mass):\n",
    "    density = 3344 # 3344 kg/m3 from NASA Moon Fact Sheet\n",
    "    Rm = (3*mass / (4*pi*density))**(1/3)\n",
    "    return Rm\n",
    "\n",
    "system = System(init=init,\n",
    "                dmdt = 6.54e6*num_rockets, #kg/s,\n",
    "                r_e = earth_radius,\n",
    "                r_m = moon_radius,\n",
    "                G=6.674e-11, #N / kg**2 * m**2\n",
    "                t_0=0,\n",
    "                t_end=100*365*24*60*60) "
   ]
  },
  {
   "cell_type": "code",
   "execution_count": 4,
   "metadata": {},
   "outputs": [],
   "source": [
    "def net_force_moon(state, system):\n",
    "    \"\"\"Computes gravitational force.\n",
    "    \n",
    "    state: State object with distance r\n",
    "    system: System object with m1, m2, and G\n",
    "    \"\"\"\n",
    "    Me,Mm,x_m,y_m,vx_m,vy_m,x_e,y_e,vx_e,vy_e = state\n",
    "    unpack(system)\n",
    "    \n",
    "    #Gravitational Force\n",
    "    r = sqrt((x_m-x_e)**2 + (y_m-y_e)**2)\n",
    "    force= G * Me * Mm / r**2\n",
    "    direction = math.atan2(y_m-y_e,x_m-x_e) + pi \n",
    "    gravitational_force = Vector(force * math.cos(direction), force*math.sin(direction) )\n",
    "    \n",
    "    # Moon momentum contribution\n",
    "    collision_force = dmdt * -(Vector(vx_m,vy_m))\n",
    "    \n",
    "    return gravitational_force + collision_force"
   ]
  },
  {
   "cell_type": "code",
   "execution_count": 5,
   "metadata": {},
   "outputs": [],
   "source": [
    "def net_force_earth(state, system):\n",
    "    \"\"\"Computes gravitational force.\n",
    "    \n",
    "    state: State object with distance r\n",
    "    system: System object with m1, m2, and G\n",
    "    \"\"\"\n",
    "    Me,Mm,x_m,y_m,vx_m,vy_m,x_e,y_e,vx_e,vy_e = state\n",
    "    unpack(system)\n",
    "    \n",
    "    #Gravitational Force\n",
    "    r = sqrt((x_m-x_e)**2 + (y_m-y_e)**2)\n",
    "    force= G * Me * Mm / r**2\n",
    "    direction = math.atan2(y_m-y_e,x_m-x_e)\n",
    "    gravitational_force = Vector(force * math.cos(direction), force*math.sin(direction) )\n",
    "    \n",
    "    return gravitational_force"
   ]
  },
  {
   "cell_type": "code",
   "execution_count": 6,
   "metadata": {},
   "outputs": [
    {
     "name": "stdout",
     "output_type": "stream",
     "text": [
      "[-2.22576509e+20 -7.05142800e+19] dimensionless\n",
      "[2.22576509e+20 0.00000000e+00] dimensionless\n"
     ]
    }
   ],
   "source": [
    "print(net_force_moon(init, system))\n",
    "print(net_force_earth(init, system))"
   ]
  },
  {
   "cell_type": "code",
   "execution_count": 7,
   "metadata": {},
   "outputs": [],
   "source": [
    "def slope_func(state,t,system):\n",
    "    \n",
    "    Me,Mm,x_m,y_m,vx_m,vy_m,x_e,y_e,vx_e,vy_e = state\n",
    "    unpack(system)\n",
    "    V_m = Vector(vx_m,vy_m)\n",
    "    V_e = Vector(vx_e,vy_e)\n",
    "    \n",
    "    Fnet_m = net_force_moon(state,system)\n",
    "    Fnet_e = net_force_earth(state,system)\n",
    "    \n",
    "    dMedt = -dmdt\n",
    "    dMmdt = dmdt\n",
    "    dxdt_m = V_m\n",
    "    dvdt_m = Fnet_m / Mm\n",
    "    dxdt_e = V_e\n",
    "    dvdt_e = Fnet_e / Me\n",
    "    \n",
    "    return dMedt, dMmdt, dxdt_m[0], dxdt_m[1], dvdt_m[0], dvdt_m[1], dxdt_e[0], dxdt_e[1], dvdt_e[0], dvdt_e[1],"
   ]
  },
  {
   "cell_type": "code",
   "execution_count": 8,
   "metadata": {},
   "outputs": [
    {
     "data": {
      "text/plain": [
       "(-6.54e+16,\n",
       " 6.54e+16,\n",
       " <Quantity(0.0, 'dimensionless')>,\n",
       " <Quantity(1078.2, 'dimensionless')>,\n",
       " <Quantity(-0.0030315514688456138, 'dimensionless')>,\n",
       " <Quantity(-0.0009604233178970305, 'dimensionless')>,\n",
       " <Quantity(0.0, 'dimensionless')>,\n",
       " <Quantity(0.0, 'dimensionless')>,\n",
       " <Quantity(3.726876341091138e-05, 'dimensionless')>,\n",
       " <Quantity(0.0, 'dimensionless')>)"
      ]
     },
     "execution_count": 8,
     "metadata": {},
     "output_type": "execute_result"
    }
   ],
   "source": [
    "slope_func(init, 0, system)"
   ]
  },
  {
   "cell_type": "code",
   "execution_count": 9,
   "metadata": {},
   "outputs": [],
   "source": [
    "def event_func(state,t,system):\n",
    "    Me,Mm,x_m,y_m,vx_m,vy_m,x_e,y_e,vx_e,vy_e = state\n",
    "    unpack(system)\n",
    "   \n",
    "    r = sqrt(x_m**2 + y_m**2)\n",
    "    r_collision = earth_radius(Me) + moon_radius(Mm)\n",
    "    \n",
    "    return r - r_collision"
   ]
  },
  {
   "cell_type": "code",
   "execution_count": 10,
   "metadata": {},
   "outputs": [
    {
     "data": {
      "text/plain": [
       "354492134.3300541"
      ]
     },
     "execution_count": 10,
     "metadata": {},
     "output_type": "execute_result"
    }
   ],
   "source": [
    "event_func(init,0,system)"
   ]
  },
  {
   "cell_type": "code",
   "execution_count": 11,
   "metadata": {},
   "outputs": [
    {
     "data": {
      "text/html": [
       "<div>\n",
       "<style scoped>\n",
       "    .dataframe tbody tr th:only-of-type {\n",
       "        vertical-align: middle;\n",
       "    }\n",
       "\n",
       "    .dataframe tbody tr th {\n",
       "        vertical-align: top;\n",
       "    }\n",
       "\n",
       "    .dataframe thead th {\n",
       "        text-align: right;\n",
       "    }\n",
       "</style>\n",
       "<table border=\"1\" class=\"dataframe\">\n",
       "  <thead>\n",
       "    <tr style=\"text-align: right;\">\n",
       "      <th></th>\n",
       "      <th>values</th>\n",
       "    </tr>\n",
       "  </thead>\n",
       "  <tbody>\n",
       "    <tr>\n",
       "      <th>sol</th>\n",
       "      <td>None</td>\n",
       "    </tr>\n",
       "    <tr>\n",
       "      <th>t_events</th>\n",
       "      <td>[[2072950.5678254485]]</td>\n",
       "    </tr>\n",
       "    <tr>\n",
       "      <th>nfev</th>\n",
       "      <td>722</td>\n",
       "    </tr>\n",
       "    <tr>\n",
       "      <th>njev</th>\n",
       "      <td>0</td>\n",
       "    </tr>\n",
       "    <tr>\n",
       "      <th>nlu</th>\n",
       "      <td>0</td>\n",
       "    </tr>\n",
       "    <tr>\n",
       "      <th>status</th>\n",
       "      <td>1</td>\n",
       "    </tr>\n",
       "    <tr>\n",
       "      <th>message</th>\n",
       "      <td>A termination event occurred.</td>\n",
       "    </tr>\n",
       "    <tr>\n",
       "      <th>success</th>\n",
       "      <td>True</td>\n",
       "    </tr>\n",
       "  </tbody>\n",
       "</table>\n",
       "</div>"
      ],
      "text/plain": [
       "sol                                  None\n",
       "t_events           [[2072950.5678254485]]\n",
       "nfev                                  722\n",
       "njev                                    0\n",
       "nlu                                     0\n",
       "status                                  1\n",
       "message     A termination event occurred.\n",
       "success                              True\n",
       "dtype: object"
      ]
     },
     "execution_count": 11,
     "metadata": {},
     "output_type": "execute_result"
    }
   ],
   "source": [
    "results, details = run_ode_solver(system, slope_func,events=event_func,  method=\"RK23\")\n",
    "details"
   ]
  },
  {
   "cell_type": "code",
   "execution_count": 12,
   "metadata": {},
   "outputs": [],
   "source": [
    "results.index /= 24*60*60"
   ]
  },
  {
   "cell_type": "code",
   "execution_count": 13,
   "metadata": {},
   "outputs": [
    {
     "data": {
      "text/plain": [
       "[<matplotlib.lines.Line2D at 0x28fd2073ef0>]"
      ]
     },
     "execution_count": 13,
     "metadata": {},
     "output_type": "execute_result"
    },
    {
     "data": {
      "image/png": "[encoded data removed]",
      "text/plain": [
       "<Figure size 432x288 with 1 Axes>"
      ]
     },
     "metadata": {},
     "output_type": "display_data"
    }
   ],
   "source": [
    "plot(results.x_m,results.y_m)\n",
    "plot(results.x_e,results.y_e)"
   ]
  },
  {
   "cell_type": "code",
   "execution_count": 14,
   "metadata": {},
   "outputs": [
    {
     "data": {
      "text/plain": [
       "[<matplotlib.lines.Line2D at 0x28fd20e8080>]"
      ]
     },
     "execution_count": 14,
     "metadata": {},
     "output_type": "execute_result"
    },
    {
     "data": {
      "image/png": "[encoded data removed]",
      "text/plain": [
       "<Figure size 432x288 with 1 Axes>"
      ]
     },
     "metadata": {},
     "output_type": "display_data"
    }
   ],
   "source": [
    "plot(results.x_e,results.y_e)"
   ]
  },
  {
   "cell_type": "code",
   "execution_count": 15,
   "metadata": {},
   "outputs": [
    {
     "data": {
      "text/plain": [
       "23.992483423905654"
      ]
     },
     "execution_count": 15,
     "metadata": {},
     "output_type": "execute_result"
    }
   ],
   "source": [
    "results.index[-1]"
   ]
  },
  {
   "cell_type": "code",
   "execution_count": null,
   "metadata": {},
   "outputs": [],
   "source": []
  }
 ],
 "metadata": {
  "kernelspec": {
   "display_name": "Python 3",
   "language": "python",
   "name": "python3"
  },
  "language_info": {
   "codemirror_mode": {
    "name": "ipython",
    "version": 3
   },
   "file_extension": ".py",
   "mimetype": "text/x-python",
   "name": "python",
   "nbconvert_exporter": "python",
   "pygments_lexer": "ipython3",
   "version": "3.6.6"
  }
 },
 "nbformat": 4,
 "nbformat_minor": 2
}
