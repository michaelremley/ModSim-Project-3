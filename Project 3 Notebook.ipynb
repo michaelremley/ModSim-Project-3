{
 "cells": [
  {
   "cell_type": "markdown",
   "metadata": {},
   "source": [
    "# Emma and Michael's Dank Boio Modeling and Simulation in Python (Copyright Allen B. Downey) Project Number 3 in the Eleventh Month of the Two Thousand and Eighteenth Year"
   ]
  },
  {
   "cell_type": "code",
   "execution_count": 150,
   "metadata": {},
   "outputs": [],
   "source": [
    "# Configure Jupyter so figures appear in the notebook\n",
    "%matplotlib inline\n",
    "\n",
    "# Configure Jupyter to display the assigned value after an assignment\n",
    "%config InteractiveShell.ast_node_interactivity='last_expr_or_assign'\n",
    "\n",
    "# import functions from the modsim library\n",
    "from modsim import *\n",
    "import math\n"
   ]
  },
  {
   "cell_type": "code",
   "execution_count": 151,
   "metadata": {},
   "outputs": [
    {
     "data": {
      "text/html": [
       "<div>\n",
       "<style scoped>\n",
       "    .dataframe tbody tr th:only-of-type {\n",
       "        vertical-align: middle;\n",
       "    }\n",
       "\n",
       "    .dataframe tbody tr th {\n",
       "        vertical-align: top;\n",
       "    }\n",
       "\n",
       "    .dataframe thead th {\n",
       "        text-align: right;\n",
       "    }\n",
       "</style>\n",
       "<table border=\"1\" class=\"dataframe\">\n",
       "  <thead>\n",
       "    <tr style=\"text-align: right;\">\n",
       "      <th></th>\n",
       "      <th>values</th>\n",
       "    </tr>\n",
       "  </thead>\n",
       "  <tbody>\n",
       "    <tr>\n",
       "      <th>Me</th>\n",
       "      <td>5.972200e+24</td>\n",
       "    </tr>\n",
       "    <tr>\n",
       "      <th>Mm</th>\n",
       "      <td>7.342000e+22</td>\n",
       "    </tr>\n",
       "    <tr>\n",
       "      <th>x_m</th>\n",
       "      <td>3.626000e+08</td>\n",
       "    </tr>\n",
       "    <tr>\n",
       "      <th>y_m</th>\n",
       "      <td>0.000000e+00</td>\n",
       "    </tr>\n",
       "    <tr>\n",
       "      <th>vx_m</th>\n",
       "      <td>0.000000e+00</td>\n",
       "    </tr>\n",
       "    <tr>\n",
       "      <th>vy_m</th>\n",
       "      <td>1.078200e+03</td>\n",
       "    </tr>\n",
       "    <tr>\n",
       "      <th>x_e</th>\n",
       "      <td>0.000000e+00</td>\n",
       "    </tr>\n",
       "    <tr>\n",
       "      <th>y_e</th>\n",
       "      <td>0.000000e+00</td>\n",
       "    </tr>\n",
       "    <tr>\n",
       "      <th>vx_e</th>\n",
       "      <td>0.000000e+00</td>\n",
       "    </tr>\n",
       "    <tr>\n",
       "      <th>vy_e</th>\n",
       "      <td>0.000000e+00</td>\n",
       "    </tr>\n",
       "  </tbody>\n",
       "</table>\n",
       "</div>"
      ],
      "text/plain": [
       "Me      5.972200e+24\n",
       "Mm      7.342000e+22\n",
       "x_m     3.626000e+08\n",
       "y_m     0.000000e+00\n",
       "vx_m    0.000000e+00\n",
       "vy_m    1.078200e+03\n",
       "x_e     0.000000e+00\n",
       "y_e     0.000000e+00\n",
       "vx_e    0.000000e+00\n",
       "vy_e    0.000000e+00\n",
       "dtype: float64"
      ]
     },
     "execution_count": 151,
     "metadata": {},
     "output_type": "execute_result"
    }
   ],
   "source": [
    "x_0 = 362600000 # 362,600 km at perigee\n",
    "v_0 = 1078.2 # 1078.2 m/s at perigee\n",
    "Me_0 = 5.9722e24 # 5.9722×10^24 kg\n",
    "Mm_0 = 7.342e22 # 7.342×10^22 kg\n",
    "\n",
    "init = State(Me = Me_0, # Initial mass of earth\n",
    "             Mm = Mm_0, #Initial mass of moon\n",
    "             x_m=x_0, # 362,600 km at perigee\n",
    "             y_m=0,\n",
    "             vx_m=0,\n",
    "             vy_m=v_0, # 1078.2 m/s at perigee\n",
    "             x_e = 0,\n",
    "             y_e = 0,\n",
    "             vx_e = 0,\n",
    "             vy_e = 0\n",
    "            )\n"
   ]
  },
  {
   "cell_type": "code",
   "execution_count": 152,
   "metadata": {},
   "outputs": [
    {
     "data": {
      "text/html": [
       "<div>\n",
       "<style scoped>\n",
       "    .dataframe tbody tr th:only-of-type {\n",
       "        vertical-align: middle;\n",
       "    }\n",
       "\n",
       "    .dataframe tbody tr th {\n",
       "        vertical-align: top;\n",
       "    }\n",
       "\n",
       "    .dataframe thead th {\n",
       "        text-align: right;\n",
       "    }\n",
       "</style>\n",
       "<table border=\"1\" class=\"dataframe\">\n",
       "  <thead>\n",
       "    <tr style=\"text-align: right;\">\n",
       "      <th></th>\n",
       "      <th>values</th>\n",
       "    </tr>\n",
       "  </thead>\n",
       "  <tbody>\n",
       "    <tr>\n",
       "      <th>init</th>\n",
       "      <td>Me      5.972200e+24\n",
       "Mm      7.342000e+22\n",
       "x_m ...</td>\n",
       "    </tr>\n",
       "    <tr>\n",
       "      <th>dmdt</th>\n",
       "      <td>1.45188e+15</td>\n",
       "    </tr>\n",
       "    <tr>\n",
       "      <th>r_e</th>\n",
       "      <td>&lt;function earth_radius at 0x0000029CAA58D0D0&gt;</td>\n",
       "    </tr>\n",
       "    <tr>\n",
       "      <th>r_m</th>\n",
       "      <td>&lt;function moon_radius at 0x0000029CAA58D840&gt;</td>\n",
       "    </tr>\n",
       "    <tr>\n",
       "      <th>G</th>\n",
       "      <td>6.674e-11</td>\n",
       "    </tr>\n",
       "    <tr>\n",
       "      <th>t_0</th>\n",
       "      <td>0</td>\n",
       "    </tr>\n",
       "    <tr>\n",
       "      <th>t_end</th>\n",
       "      <td>157680000</td>\n",
       "    </tr>\n",
       "  </tbody>\n",
       "</table>\n",
       "</div>"
      ],
      "text/plain": [
       "init     Me      5.972200e+24\n",
       "Mm      7.342000e+22\n",
       "x_m ...\n",
       "dmdt                                           1.45188e+15\n",
       "r_e          <function earth_radius at 0x0000029CAA58D0D0>\n",
       "r_m           <function moon_radius at 0x0000029CAA58D840>\n",
       "G                                                6.674e-11\n",
       "t_0                                                      0\n",
       "t_end                                            157680000\n",
       "dtype: object"
      ]
     },
     "execution_count": 152,
     "metadata": {},
     "output_type": "execute_result"
    }
   ],
   "source": [
    "num_rockets = 2.2e8\n",
    "\n",
    "def earth_radius(mass):\n",
    "    density = 5514 # 5514 kg/m3 from NASA Earth Fact Sheet\n",
    "    Re = (3*mass / (4*pi*density))**(1/3)\n",
    "    return Re\n",
    "\n",
    "def moon_radius(mass):\n",
    "    density = 3344 # 3344 kg/m3 from NASA Moon Fact Sheet\n",
    "    Rm = (3*mass / (4*pi*density))**(1/3)\n",
    "    return Rm\n",
    "def make_system()\n",
    "system = System(init=init,\n",
    "                dmdt = 6.54e6*num_rockets, #kg/s,\n",
    "                r_e = earth_radius,\n",
    "                r_m = moon_radius,\n",
    "                G=6.674e-11, #N / kg**2 * m**2\n",
    "                t_0=0,\n",
    "                t_end=5*365*24*60*60) "
   ]
  },
  {
   "cell_type": "code",
   "execution_count": 153,
   "metadata": {},
   "outputs": [],
   "source": [
    "def net_force_moon(state, system):\n",
    "    \"\"\"Computes gravitational force.\n",
    "    \n",
    "    state: State object with distance r\n",
    "    system: System object with m1, m2, and G\n",
    "    \"\"\"\n",
    "    Me,Mm,x_m,y_m,vx_m,vy_m,x_e,y_e,vx_e,vy_e = state\n",
    "    unpack(system)\n",
    "    \n",
    "    #Gravitational Force\n",
    "    r = sqrt((x_m-x_e)**2 + (y_m-y_e)**2)\n",
    "    force= G * Me * Mm / r**2\n",
    "    direction = math.atan2(y_m-y_e,x_m-x_e) + pi \n",
    "    gravitational_force = Vector(force * math.cos(direction), force*math.sin(direction) )\n",
    "    \n",
    "    # Moon momentum contribution\n",
    "    collision_force = dmdt * -(Vector(vx_m,vy_m))\n",
    "    \n",
    "    return gravitational_force + collision_force"
   ]
  },
  {
   "cell_type": "code",
   "execution_count": 154,
   "metadata": {},
   "outputs": [],
   "source": [
    "def net_force_earth(state, system):\n",
    "    \"\"\"Computes gravitational force.\n",
    "    \n",
    "    state: State object with distance r\n",
    "    system: System object with m1, m2, and G\n",
    "    \"\"\"\n",
    "    Me,Mm,x_m,y_m,vx_m,vy_m,x_e,y_e,vx_e,vy_e = state\n",
    "    unpack(system)\n",
    "    \n",
    "    #Gravitational Force\n",
    "    r = sqrt((x_m-x_e)**2 + (y_m-y_e)**2)\n",
    "    force= G * Me * Mm / r**2\n",
    "    direction = math.atan2(y_m-y_e,x_m-x_e)\n",
    "    gravitational_force = Vector(force * math.cos(direction), force*math.sin(direction) )\n",
    "    \n",
    "    return gravitational_force"
   ]
  },
  {
   "cell_type": "code",
   "execution_count": 155,
   "metadata": {},
   "outputs": [
    {
     "name": "stdout",
     "output_type": "stream",
     "text": [
      "[-2.22576509e+20 -1.56541702e+18] dimensionless\n",
      "[2.22576509e+20 0.00000000e+00] dimensionless\n"
     ]
    }
   ],
   "source": [
    "print(net_force_moon(init, system))\n",
    "print(net_force_earth(init, system))"
   ]
  },
  {
   "cell_type": "code",
   "execution_count": 156,
   "metadata": {},
   "outputs": [],
   "source": [
    "def slope_func(state,t,system):\n",
    "    \n",
    "    Me,Mm,x_m,y_m,vx_m,vy_m,x_e,y_e,vx_e,vy_e = state\n",
    "    unpack(system)\n",
    "    V_m = Vector(vx_m,vy_m)\n",
    "    V_e = Vector(vx_e,vy_e)\n",
    "    \n",
    "    Fnet_m = net_force_moon(state,system)\n",
    "    Fnet_e = net_force_earth(state,system)\n",
    "    \n",
    "    dMedt = -dmdt\n",
    "    dMmdt = dmdt\n",
    "    dxdt_m = V_m\n",
    "    dvdt_m = Fnet_m / Mm\n",
    "    dxdt_e = V_e\n",
    "    dvdt_e = Fnet_e / Me\n",
    "    \n",
    "    return dMedt, dMmdt, dxdt_m[0], dxdt_m[1], dvdt_m[0], dvdt_m[1], dxdt_e[0], dxdt_e[1], dvdt_e[0], dvdt_e[1],"
   ]
  },
  {
   "cell_type": "code",
   "execution_count": 157,
   "metadata": {},
   "outputs": [
    {
     "data": {
      "text/plain": [
       "(-1451880000000000.0,\n",
       " 1451880000000000.0,\n",
       " <Quantity(0.0, 'dimensionless')>,\n",
       " <Quantity(1078.2, 'dimensionless')>,\n",
       " <Quantity(-0.0030315514688456138, 'dimensionless')>,\n",
       " <Quantity(-2.1321397657313716e-05, 'dimensionless')>,\n",
       " <Quantity(0.0, 'dimensionless')>,\n",
       " <Quantity(0.0, 'dimensionless')>,\n",
       " <Quantity(3.726876341091138e-05, 'dimensionless')>,\n",
       " <Quantity(0.0, 'dimensionless')>)"
      ]
     },
     "execution_count": 157,
     "metadata": {},
     "output_type": "execute_result"
    }
   ],
   "source": [
    "slope_func(init, 0, system)"
   ]
  },
  {
   "cell_type": "code",
   "execution_count": 158,
   "metadata": {},
   "outputs": [],
   "source": [
    "def event_func(state,t,system):\n",
    "    Me,Mm,x_m,y_m,vx_m,vy_m,x_e,y_e,vx_e,vy_e = state\n",
    "    unpack(system)\n",
    "   \n",
    "    r = sqrt(x_m**2 + y_m**2)\n",
    "    r_collision = earth_radius(Me) + moon_radius(Mm)\n",
    "    \n",
    "    return r - r_collision\n",
    "\n",
    "def event_func(state,t,system):\n",
    "    Me,Mm,x_m,y_m,vx_m,vy_m,x_e,y_e,vx_e,vy_e = state\n",
    "    unpack(system)\n",
    "   \n",
    "    r = sqrt((x_m-x_e)**2 + (y_m-y_e)**2)\n",
    "    collision_radius = earth_radius(Me) + moon_radius(Mm)\n",
    "    \n",
    "    #End the simulart if there is a collision OR if the orbital radius exceeds its initial value at apogee\n",
    "    if(Me < 0):\n",
    "        print('Negative mass is really sad...')\n",
    "        return 0\n",
    "    elif(r > 0.4055e10): # e9 originally\n",
    "        print('The moon escaped our experiment!')\n",
    "        return 0\n",
    "    else:\n",
    "        return r - collision_radius\n"
   ]
  },
  {
   "cell_type": "code",
   "execution_count": 159,
   "metadata": {},
   "outputs": [
    {
     "data": {
      "text/plain": [
       "354492134.3300541"
      ]
     },
     "execution_count": 159,
     "metadata": {},
     "output_type": "execute_result"
    }
   ],
   "source": [
    "event_func(init,0,system)"
   ]
  },
  {
   "cell_type": "code",
   "execution_count": 160,
   "metadata": {},
   "outputs": [
    {
     "data": {
      "text/html": [
       "<div>\n",
       "<style scoped>\n",
       "    .dataframe tbody tr th:only-of-type {\n",
       "        vertical-align: middle;\n",
       "    }\n",
       "\n",
       "    .dataframe tbody tr th {\n",
       "        vertical-align: top;\n",
       "    }\n",
       "\n",
       "    .dataframe thead th {\n",
       "        text-align: right;\n",
       "    }\n",
       "</style>\n",
       "<table border=\"1\" class=\"dataframe\">\n",
       "  <thead>\n",
       "    <tr style=\"text-align: right;\">\n",
       "      <th></th>\n",
       "      <th>values</th>\n",
       "    </tr>\n",
       "  </thead>\n",
       "  <tbody>\n",
       "    <tr>\n",
       "      <th>sol</th>\n",
       "      <td>None</td>\n",
       "    </tr>\n",
       "    <tr>\n",
       "      <th>t_events</th>\n",
       "      <td>[[96190967.72823274]]</td>\n",
       "    </tr>\n",
       "    <tr>\n",
       "      <th>nfev</th>\n",
       "      <td>34559</td>\n",
       "    </tr>\n",
       "    <tr>\n",
       "      <th>njev</th>\n",
       "      <td>245</td>\n",
       "    </tr>\n",
       "    <tr>\n",
       "      <th>nlu</th>\n",
       "      <td>245</td>\n",
       "    </tr>\n",
       "    <tr>\n",
       "      <th>status</th>\n",
       "      <td>1</td>\n",
       "    </tr>\n",
       "    <tr>\n",
       "      <th>message</th>\n",
       "      <td>A termination event occurred.</td>\n",
       "    </tr>\n",
       "    <tr>\n",
       "      <th>success</th>\n",
       "      <td>True</td>\n",
       "    </tr>\n",
       "  </tbody>\n",
       "</table>\n",
       "</div>"
      ],
      "text/plain": [
       "sol                                  None\n",
       "t_events            [[96190967.72823274]]\n",
       "nfev                                34559\n",
       "njev                                  245\n",
       "nlu                                   245\n",
       "status                                  1\n",
       "message     A termination event occurred.\n",
       "success                              True\n",
       "dtype: object"
      ]
     },
     "execution_count": 160,
     "metadata": {},
     "output_type": "execute_result"
    }
   ],
   "source": [
    "def error_func(rockets, system):\n",
    "    \n",
    "    \n",
    "    results, details = run_ode_solver(system, slope_func,events=event_func, method=\"LSODA\")\n"
   ]
  },
  {
   "cell_type": "code",
   "execution_count": 161,
   "metadata": {},
   "outputs": [],
   "source": [
    "results.index /= 24*60*60"
   ]
  },
  {
   "cell_type": "code",
   "execution_count": 162,
   "metadata": {},
   "outputs": [
    {
     "data": {
      "text/plain": [
       "[<matplotlib.lines.Line2D at 0x29caa534f60>]"
      ]
     },
     "execution_count": 162,
     "metadata": {},
     "output_type": "execute_result"
    },
    {
     "data": {
      "image/png": "[encoded data removed]",
      "text/plain": [
       "<Figure size 432x288 with 1 Axes>"
      ]
     },
     "metadata": {
      "needs_background": "light"
     },
     "output_type": "display_data"
    }
   ],
   "source": [
    "plot(results.x_m,results.y_m)\n",
    "plot(results.x_e,results.y_e)"
   ]
  },
  {
   "cell_type": "code",
   "execution_count": 163,
   "metadata": {},
   "outputs": [
    {
     "data": {
      "text/plain": [
       "3.050195577379273"
      ]
     },
     "execution_count": 163,
     "metadata": {},
     "output_type": "execute_result"
    }
   ],
   "source": [
    "results.index[-1]/365"
   ]
  },
  {
   "cell_type": "code",
   "execution_count": 164,
   "metadata": {},
   "outputs": [
    {
     "data": {
      "text/html": [
       "<div>\n",
       "<style scoped>\n",
       "    .dataframe tbody tr th:only-of-type {\n",
       "        vertical-align: middle;\n",
       "    }\n",
       "\n",
       "    .dataframe tbody tr th {\n",
       "        vertical-align: top;\n",
       "    }\n",
       "\n",
       "    .dataframe thead th {\n",
       "        text-align: right;\n",
       "    }\n",
       "</style>\n",
       "<table border=\"1\" class=\"dataframe\">\n",
       "  <thead>\n",
       "    <tr style=\"text-align: right;\">\n",
       "      <th></th>\n",
       "      <th>Me</th>\n",
       "      <th>Mm</th>\n",
       "      <th>x_m</th>\n",
       "      <th>y_m</th>\n",
       "      <th>vx_m</th>\n",
       "      <th>vy_m</th>\n",
       "      <th>x_e</th>\n",
       "      <th>y_e</th>\n",
       "      <th>vx_e</th>\n",
       "      <th>vy_e</th>\n",
       "    </tr>\n",
       "  </thead>\n",
       "  <tbody>\n",
       "    <tr>\n",
       "      <th>0.000000e+00</th>\n",
       "      <td>5.972200e+24</td>\n",
       "      <td>7.342000e+22</td>\n",
       "      <td>362600000.0</td>\n",
       "      <td>0.000000</td>\n",
       "      <td>0.000000e+00</td>\n",
       "      <td>1078.2</td>\n",
       "      <td>0.000000e+00</td>\n",
       "      <td>0.000000e+00</td>\n",
       "      <td>0.000000e+00</td>\n",
       "      <td>0.000000e+00</td>\n",
       "    </tr>\n",
       "    <tr>\n",
       "      <th>3.394587e-13</th>\n",
       "      <td>5.972200e+24</td>\n",
       "      <td>7.342000e+22</td>\n",
       "      <td>362600000.0</td>\n",
       "      <td>0.000032</td>\n",
       "      <td>-8.891307e-11</td>\n",
       "      <td>1078.2</td>\n",
       "      <td>3.205873e-20</td>\n",
       "      <td>0.000000e+00</td>\n",
       "      <td>1.093064e-12</td>\n",
       "      <td>9.532742e-26</td>\n",
       "    </tr>\n",
       "    <tr>\n",
       "      <th>6.789174e-13</th>\n",
       "      <td>5.972200e+24</td>\n",
       "      <td>7.342000e+22</td>\n",
       "      <td>362600000.0</td>\n",
       "      <td>0.000063</td>\n",
       "      <td>-1.778261e-10</td>\n",
       "      <td>1078.2</td>\n",
       "      <td>9.617619e-20</td>\n",
       "      <td>5.591760e-33</td>\n",
       "      <td>2.186128e-12</td>\n",
       "      <td>2.859823e-25</td>\n",
       "    </tr>\n",
       "    <tr>\n",
       "      <th>3.395266e-09</th>\n",
       "      <td>5.972200e+24</td>\n",
       "      <td>7.342000e+22</td>\n",
       "      <td>362600000.0</td>\n",
       "      <td>0.316291</td>\n",
       "      <td>-8.893086e-07</td>\n",
       "      <td>1078.2</td>\n",
       "      <td>1.603578e-12</td>\n",
       "      <td>6.992497e-22</td>\n",
       "      <td>1.093283e-08</td>\n",
       "      <td>4.768278e-18</td>\n",
       "    </tr>\n",
       "    <tr>\n",
       "      <th>6.789853e-09</th>\n",
       "      <td>5.972200e+24</td>\n",
       "      <td>7.342000e+22</td>\n",
       "      <td>362600000.0</td>\n",
       "      <td>0.632519</td>\n",
       "      <td>-1.778439e-06</td>\n",
       "      <td>1078.2</td>\n",
       "      <td>6.413029e-12</td>\n",
       "      <td>4.194939e-21</td>\n",
       "      <td>2.186347e-08</td>\n",
       "      <td>1.906930e-17</td>\n",
       "    </tr>\n",
       "  </tbody>\n",
       "</table>\n",
       "</div>"
      ],
      "text/plain": [
       "                        Me            Mm          x_m       y_m          vx_m  \\\n",
       "0.000000e+00  5.972200e+24  7.342000e+22  362600000.0  0.000000  0.000000e+00   \n",
       "3.394587e-13  5.972200e+24  7.342000e+22  362600000.0  0.000032 -8.891307e-11   \n",
       "6.789174e-13  5.972200e+24  7.342000e+22  362600000.0  0.000063 -1.778261e-10   \n",
       "3.395266e-09  5.972200e+24  7.342000e+22  362600000.0  0.316291 -8.893086e-07   \n",
       "6.789853e-09  5.972200e+24  7.342000e+22  362600000.0  0.632519 -1.778439e-06   \n",
       "\n",
       "                vy_m           x_e           y_e          vx_e          vy_e  \n",
       "0.000000e+00  1078.2  0.000000e+00  0.000000e+00  0.000000e+00  0.000000e+00  \n",
       "3.394587e-13  1078.2  3.205873e-20  0.000000e+00  1.093064e-12  9.532742e-26  \n",
       "6.789174e-13  1078.2  9.617619e-20  5.591760e-33  2.186128e-12  2.859823e-25  \n",
       "3.395266e-09  1078.2  1.603578e-12  6.992497e-22  1.093283e-08  4.768278e-18  \n",
       "6.789853e-09  1078.2  6.413029e-12  4.194939e-21  2.186347e-08  1.906930e-17  "
      ]
     },
     "execution_count": 164,
     "metadata": {},
     "output_type": "execute_result"
    }
   ],
   "source": [
    "results.head()"
   ]
  },
  {
   "cell_type": "code",
   "execution_count": 165,
   "metadata": {},
   "outputs": [
    {
     "data": {
      "text/html": [
       "<div>\n",
       "<style scoped>\n",
       "    .dataframe tbody tr th:only-of-type {\n",
       "        vertical-align: middle;\n",
       "    }\n",
       "\n",
       "    .dataframe tbody tr th {\n",
       "        vertical-align: top;\n",
       "    }\n",
       "\n",
       "    .dataframe thead th {\n",
       "        text-align: right;\n",
       "    }\n",
       "</style>\n",
       "<table border=\"1\" class=\"dataframe\">\n",
       "  <thead>\n",
       "    <tr style=\"text-align: right;\">\n",
       "      <th></th>\n",
       "      <th>Me</th>\n",
       "      <th>Mm</th>\n",
       "      <th>x_m</th>\n",
       "      <th>y_m</th>\n",
       "      <th>vx_m</th>\n",
       "      <th>vy_m</th>\n",
       "      <th>x_e</th>\n",
       "      <th>y_e</th>\n",
       "      <th>vx_e</th>\n",
       "      <th>vy_e</th>\n",
       "    </tr>\n",
       "  </thead>\n",
       "  <tbody>\n",
       "    <tr>\n",
       "      <th>1113.313084</th>\n",
       "      <td>5.832543e+24</td>\n",
       "      <td>2.130767e+23</td>\n",
       "      <td>8.016725e+06</td>\n",
       "      <td>1.236186e+09</td>\n",
       "      <td>5990.429268</td>\n",
       "      <td>5421.975361</td>\n",
       "      <td>4.350093e+06</td>\n",
       "      <td>1.245736e+09</td>\n",
       "      <td>-218.840171</td>\n",
       "      <td>-184.827805</td>\n",
       "    </tr>\n",
       "    <tr>\n",
       "      <th>1113.316005</th>\n",
       "      <td>5.832543e+24</td>\n",
       "      <td>2.130771e+23</td>\n",
       "      <td>9.470558e+06</td>\n",
       "      <td>1.237666e+09</td>\n",
       "      <td>5529.270916</td>\n",
       "      <td>6313.269073</td>\n",
       "      <td>4.296982e+06</td>\n",
       "      <td>1.245685e+09</td>\n",
       "      <td>-201.993301</td>\n",
       "      <td>-217.389285</td>\n",
       "    </tr>\n",
       "    <tr>\n",
       "      <th>1113.318149</th>\n",
       "      <td>5.832543e+24</td>\n",
       "      <td>2.130773e+23</td>\n",
       "      <td>1.044802e+07</td>\n",
       "      <td>1.238895e+09</td>\n",
       "      <td>5023.546784</td>\n",
       "      <td>6962.942028</td>\n",
       "      <td>4.261274e+06</td>\n",
       "      <td>1.245643e+09</td>\n",
       "      <td>-183.518190</td>\n",
       "      <td>-241.123749</td>\n",
       "    </tr>\n",
       "    <tr>\n",
       "      <th>1113.320293</th>\n",
       "      <td>5.832542e+24</td>\n",
       "      <td>2.130776e+23</td>\n",
       "      <td>1.131790e+07</td>\n",
       "      <td>1.240240e+09</td>\n",
       "      <td>4368.084477</td>\n",
       "      <td>7555.401006</td>\n",
       "      <td>4.229496e+06</td>\n",
       "      <td>1.245596e+09</td>\n",
       "      <td>-159.572716</td>\n",
       "      <td>-262.768102</td>\n",
       "    </tr>\n",
       "    <tr>\n",
       "      <th>1113.321386</th>\n",
       "      <td>5.832542e+24</td>\n",
       "      <td>2.130777e+23</td>\n",
       "      <td>1.171133e+07</td>\n",
       "      <td>1.240964e+09</td>\n",
       "      <td>3981.376385</td>\n",
       "      <td>7818.535381</td>\n",
       "      <td>4.215123e+06</td>\n",
       "      <td>1.245571e+09</td>\n",
       "      <td>-145.445378</td>\n",
       "      <td>-272.381253</td>\n",
       "    </tr>\n",
       "  </tbody>\n",
       "</table>\n",
       "</div>"
      ],
      "text/plain": [
       "                       Me            Mm           x_m           y_m  \\\n",
       "1113.313084  5.832543e+24  2.130767e+23  8.016725e+06  1.236186e+09   \n",
       "1113.316005  5.832543e+24  2.130771e+23  9.470558e+06  1.237666e+09   \n",
       "1113.318149  5.832543e+24  2.130773e+23  1.044802e+07  1.238895e+09   \n",
       "1113.320293  5.832542e+24  2.130776e+23  1.131790e+07  1.240240e+09   \n",
       "1113.321386  5.832542e+24  2.130777e+23  1.171133e+07  1.240964e+09   \n",
       "\n",
       "                    vx_m         vy_m           x_e           y_e        vx_e  \\\n",
       "1113.313084  5990.429268  5421.975361  4.350093e+06  1.245736e+09 -218.840171   \n",
       "1113.316005  5529.270916  6313.269073  4.296982e+06  1.245685e+09 -201.993301   \n",
       "1113.318149  5023.546784  6962.942028  4.261274e+06  1.245643e+09 -183.518190   \n",
       "1113.320293  4368.084477  7555.401006  4.229496e+06  1.245596e+09 -159.572716   \n",
       "1113.321386  3981.376385  7818.535381  4.215123e+06  1.245571e+09 -145.445378   \n",
       "\n",
       "                   vy_e  \n",
       "1113.313084 -184.827805  \n",
       "1113.316005 -217.389285  \n",
       "1113.318149 -241.123749  \n",
       "1113.320293 -262.768102  \n",
       "1113.321386 -272.381253  "
      ]
     },
     "execution_count": 165,
     "metadata": {},
     "output_type": "execute_result"
    }
   ],
   "source": [
    "results.tail()"
   ]
  },
  {
   "cell_type": "code",
   "execution_count": null,
   "metadata": {},
   "outputs": [],
   "source": []
  }
 ],
 "metadata": {
  "kernelspec": {
   "display_name": "Python 3",
   "language": "python",
   "name": "python3"
  },
  "language_info": {
   "codemirror_mode": {
    "name": "ipython",
    "version": 3
   },
   "file_extension": ".py",
   "mimetype": "text/x-python",
   "name": "python",
   "nbconvert_exporter": "python",
   "pygments_lexer": "ipython3",
   "version": "3.6.6"
  }
 },
 "nbformat": 4,
 "nbformat_minor": 2
}
