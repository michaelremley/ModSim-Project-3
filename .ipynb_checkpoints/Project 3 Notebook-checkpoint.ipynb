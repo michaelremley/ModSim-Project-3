{
 "cells": [
  {
   "cell_type": "markdown",
   "metadata": {},
   "source": [
    "# Emma and Michael's Dank Boio Modeling and Simulation in Python (Copyright Allen B. Downey) Project Number 3 in the Eleventh Month of the Two Thousand and Eighteenth Year"
   ]
  },
  {
   "cell_type": "code",
   "execution_count": 58,
   "metadata": {},
   "outputs": [],
   "source": [
    "# Configure Jupyter so figures appear in the notebook\n",
    "%matplotlib inline\n",
    "\n",
    "# Configure Jupyter to display the assigned value after an assignment\n",
    "%config InteractiveShell.ast_node_interactivity='last_expr_or_assign'\n",
    "\n",
    "# import functions from the modsim library\n",
    "from modsim import *\n",
    "import math\n"
   ]
  },
  {
   "cell_type": "code",
   "execution_count": 63,
   "metadata": {},
   "outputs": [],
   "source": [
    "params = Params(num_rockets = 2.5e8,\n",
    "                r_e = earth_radius,\n",
    "                r_m = moon_radius,\n",
    "                G=6.674e-11, #N / kg**2 * m**2\n",
    "                t_0=0,\n",
    "                t_end=5*365*24*60*60, \n",
    "                x_0 = 362600000, # 362,600 km at perigee\n",
    "                v_0 = 1078.2, # 1078.2 m/s at perigee\n",
    "                Me_0 = 5.9722e24, # 5.9722×10^24 kg\n",
    "                Mm_0 = 7.342e22); # 7.342×10^22 kg"
   ]
  },
  {
   "cell_type": "code",
   "execution_count": 64,
   "metadata": {},
   "outputs": [],
   "source": [
    "def earth_radius(mass):\n",
    "    density = 5514 # 5514 kg/m3 from NASA Earth Fact Sheet\n",
    "    Re = (3*mass / (4*pi*density))**(1/3)\n",
    "    return Re\n",
    "\n",
    "def moon_radius(mass):\n",
    "    density = 3344 # 3344 kg/m3 from NASA Moon Fact Sheet\n",
    "    Rm = (3*mass / (4*pi*density))**(1/3)\n",
    "    return Rm"
   ]
  },
  {
   "cell_type": "code",
   "execution_count": 65,
   "metadata": {},
   "outputs": [],
   "source": [
    "def make_system(params):\n",
    "    num_rockets, r_e, r_m, G, t_0, t_end, x_0, v_0, Me_0, Mm_0 = params\n",
    "    \n",
    "    dmdt = 6.54e6*num_rockets\n",
    "    \n",
    "    init = State(Me = Me_0, # Initial mass of earth\n",
    "             Mm = Mm_0, #Initial mass of moon\n",
    "             x_m=x_0, # 362,600 km at perigee\n",
    "             y_m=0,\n",
    "             vx_m=0,\n",
    "             vy_m=v_0, # 1078.2 m/s at perigee\n",
    "             x_e = 0,\n",
    "             y_e = 0,\n",
    "             vx_e = 0,\n",
    "             vy_e = 0\n",
    "            )\n",
    "    system = System(init = init,\n",
    "                dmdt =dmdt,\n",
    "                r_e = earth_radius,\n",
    "                r_m = moon_radius,\n",
    "                G=6.674e-11, #N / kg**2 * m**2\n",
    "                t_0=0,\n",
    "                t_end=5*365*24*60*60, \n",
    "                x_0 = 362600000, # 362,600 km at perigee\n",
    "                v_0 = 1078.2, # 1078.2 m/s at perigee\n",
    "                Me_0 = 5.9722e24, # 5.9722×10^24 kg\n",
    "                Mm_0 = 7.342e22) # 7.342×10^22 kg\n",
    "    \n",
    "    return system\n"
   ]
  },
  {
   "cell_type": "code",
   "execution_count": 66,
   "metadata": {},
   "outputs": [],
   "source": [
    "def net_force_moon(state, system):\n",
    "    \"\"\"Computes gravitational force.\n",
    "    \n",
    "    state: State object with distance r\n",
    "    system: System object with m1, m2, and G\n",
    "    \"\"\"\n",
    "    Me,Mm,x_m,y_m,vx_m,vy_m,x_e,y_e,vx_e,vy_e = state\n",
    "    unpack(system)\n",
    "    \n",
    "    #Gravitational Force\n",
    "    r = sqrt((x_m-x_e)**2 + (y_m-y_e)**2)\n",
    "    force= G * Me * Mm / r**2\n",
    "    direction = math.atan2(y_m-y_e,x_m-x_e) + pi \n",
    "    gravitational_force = Vector(force * math.cos(direction), force*math.sin(direction) )\n",
    "    \n",
    "    # Moon momentum contribution\n",
    "    collision_force = dmdt * -(Vector(vx_m,vy_m))\n",
    "    \n",
    "    return gravitational_force + collision_force"
   ]
  },
  {
   "cell_type": "code",
   "execution_count": 67,
   "metadata": {},
   "outputs": [],
   "source": [
    "def net_force_earth(state, system):\n",
    "    \"\"\"Computes gravitational force.\n",
    "    \n",
    "    state: State object with distance r\n",
    "    system: System object with m1, m2, and G\n",
    "    \"\"\"\n",
    "    Me,Mm,x_m,y_m,vx_m,vy_m,x_e,y_e,vx_e,vy_e = state\n",
    "    unpack(system)\n",
    "    \n",
    "    #Gravitational Force\n",
    "    r = sqrt((x_m-x_e)**2 + (y_m-y_e)**2)\n",
    "    force= G * Me * Mm / r**2\n",
    "    direction = math.atan2(y_m-y_e,x_m-x_e)\n",
    "    gravitational_force = Vector(force * math.cos(direction), force*math.sin(direction) )\n",
    "    \n",
    "    return gravitational_force"
   ]
  },
  {
   "cell_type": "code",
   "execution_count": 68,
   "metadata": {},
   "outputs": [
    {
     "name": "stdout",
     "output_type": "stream",
     "text": [
      "[-2.22576509e+20 -1.76285700e+18] dimensionless\n",
      "[2.22576509e+20 0.00000000e+00] dimensionless\n"
     ]
    }
   ],
   "source": [
    "print(net_force_moon(init, system))\n",
    "print(net_force_earth(init, system))"
   ]
  },
  {
   "cell_type": "code",
   "execution_count": 69,
   "metadata": {},
   "outputs": [],
   "source": [
    "def slope_func(state,t,system):\n",
    "    \n",
    "    Me,Mm,x_m,y_m,vx_m,vy_m,x_e,y_e,vx_e,vy_e = state\n",
    "    unpack(system)\n",
    "    V_m = Vector(vx_m,vy_m)\n",
    "    V_e = Vector(vx_e,vy_e)\n",
    "    \n",
    "    Fnet_m = net_force_moon(state,system)\n",
    "    Fnet_e = net_force_earth(state,system)\n",
    "    \n",
    "    dMedt = -dmdt\n",
    "    dMmdt = dmdt\n",
    "    dxdt_m = V_m\n",
    "    dvdt_m = Fnet_m / Mm\n",
    "    dxdt_e = V_e\n",
    "    dvdt_e = Fnet_e / Me\n",
    "    \n",
    "    return dMedt, dMmdt, dxdt_m[0], dxdt_m[1], dvdt_m[0], dvdt_m[1], dxdt_e[0], dxdt_e[1], dvdt_e[0], dvdt_e[1],"
   ]
  },
  {
   "cell_type": "code",
   "execution_count": 70,
   "metadata": {},
   "outputs": [
    {
     "data": {
      "text/plain": [
       "(-1635000000000000.0,\n",
       " 1635000000000000.0,\n",
       " <Quantity(0.0, 'dimensionless')>,\n",
       " <Quantity(1078.2, 'dimensionless')>,\n",
       " <Quantity(-0.0030315514688456138, 'dimensionless')>,\n",
       " <Quantity(-2.40105829474254e-05, 'dimensionless')>,\n",
       " <Quantity(0.0, 'dimensionless')>,\n",
       " <Quantity(0.0, 'dimensionless')>,\n",
       " <Quantity(3.726876341091138e-05, 'dimensionless')>,\n",
       " <Quantity(0.0, 'dimensionless')>)"
      ]
     },
     "execution_count": 70,
     "metadata": {},
     "output_type": "execute_result"
    }
   ],
   "source": [
    "slope_func(init, 0, system)"
   ]
  },
  {
   "cell_type": "code",
   "execution_count": 71,
   "metadata": {},
   "outputs": [],
   "source": [
    "def event_func(state,t,system):\n",
    "    Me,Mm,x_m,y_m,vx_m,vy_m,x_e,y_e,vx_e,vy_e = state\n",
    "    unpack(system)\n",
    "   \n",
    "    r = sqrt(x_m**2 + y_m**2)\n",
    "    r_collision = earth_radius(Me) + moon_radius(Mm)\n",
    "    \n",
    "    return r - r_collision\n",
    "\n",
    "def event_func(state,t,system):\n",
    "    Me,Mm,x_m,y_m,vx_m,vy_m,x_e,y_e,vx_e,vy_e = state\n",
    "    unpack(system)\n",
    "   \n",
    "    r = sqrt((x_m-x_e)**2 + (y_m-y_e)**2)\n",
    "    collision_radius = earth_radius(Me) + moon_radius(Mm)\n",
    "    \n",
    "    #End the simulart if there is a collision OR if the orbital radius exceeds its initial value at apogee\n",
    "    if(Me < 0):\n",
    "        print('Negative mass is really sad...')\n",
    "        return 0\n",
    "    elif(r > 0.4055e10): # e9 originally\n",
    "        print('The moon escaped our experiment!')\n",
    "        return 0\n",
    "    else:\n",
    "        return r - collision_radius\n"
   ]
  },
  {
   "cell_type": "code",
   "execution_count": 72,
   "metadata": {},
   "outputs": [
    {
     "data": {
      "text/plain": [
       "354492134.3300541"
      ]
     },
     "execution_count": 72,
     "metadata": {},
     "output_type": "execute_result"
    }
   ],
   "source": [
    "event_func(init,0,system)"
   ]
  },
  {
   "cell_type": "code",
   "execution_count": 73,
   "metadata": {},
   "outputs": [],
   "source": [
    "def error_func(rockets, system):\n",
    "    params = Params(params, num_rockets)\n",
    "    \n",
    "    results, details = run_ode_solver(system, slope_func,events=event_func, method=\"LSODA\")\n"
   ]
  },
  {
   "cell_type": "code",
   "execution_count": 74,
   "metadata": {},
   "outputs": [],
   "source": [
    "results.index /= 24*60*60"
   ]
  },
  {
   "cell_type": "code",
   "execution_count": 75,
   "metadata": {},
   "outputs": [
    {
     "data": {
      "text/plain": [
       "[<matplotlib.lines.Line2D at 0x15a341ec400>]"
      ]
     },
     "execution_count": 75,
     "metadata": {},
     "output_type": "execute_result"
    },
    {
     "data": {
      "image/png": "[encoded data removed]",
      "text/plain": [
       "<Figure size 432x288 with 1 Axes>"
      ]
     },
     "metadata": {},
     "output_type": "display_data"
    }
   ],
   "source": [
    "plot(results.x_m,results.y_m)\n",
    "plot(results.x_e,results.y_e)"
   ]
  },
  {
   "cell_type": "code",
   "execution_count": 76,
   "metadata": {},
   "outputs": [
    {
     "data": {
      "text/plain": [
       "3.7178391986815594e-05"
      ]
     },
     "execution_count": 76,
     "metadata": {},
     "output_type": "execute_result"
    }
   ],
   "source": [
    "results.index[-1]/365"
   ]
  },
  {
   "cell_type": "code",
   "execution_count": 77,
   "metadata": {},
   "outputs": [
    {
     "data": {
      "text/html": [
       "<div>\n",
       "<style scoped>\n",
       "    .dataframe tbody tr th:only-of-type {\n",
       "        vertical-align: middle;\n",
       "    }\n",
       "\n",
       "    .dataframe tbody tr th {\n",
       "        vertical-align: top;\n",
       "    }\n",
       "\n",
       "    .dataframe thead th {\n",
       "        text-align: right;\n",
       "    }\n",
       "</style>\n",
       "<table border=\"1\" class=\"dataframe\">\n",
       "  <thead>\n",
       "    <tr style=\"text-align: right;\">\n",
       "      <th></th>\n",
       "      <th>Me</th>\n",
       "      <th>Mm</th>\n",
       "      <th>x_m</th>\n",
       "      <th>y_m</th>\n",
       "      <th>vx_m</th>\n",
       "      <th>vy_m</th>\n",
       "      <th>x_e</th>\n",
       "      <th>y_e</th>\n",
       "      <th>vx_e</th>\n",
       "      <th>vy_e</th>\n",
       "    </tr>\n",
       "  </thead>\n",
       "  <tbody>\n",
       "    <tr>\n",
       "      <th>0.000000e+00</th>\n",
       "      <td>5.972200e+24</td>\n",
       "      <td>7.342000e+22</td>\n",
       "      <td>362600000.0</td>\n",
       "      <td>0.000000</td>\n",
       "      <td>0.000000e+00</td>\n",
       "      <td>1078.2</td>\n",
       "      <td>0.000000e+00</td>\n",
       "      <td>0.000000e+00</td>\n",
       "      <td>0.000000e+00</td>\n",
       "      <td>0.000000e+00</td>\n",
       "    </tr>\n",
       "    <tr>\n",
       "      <th>3.928920e-18</th>\n",
       "      <td>5.972200e+24</td>\n",
       "      <td>7.342000e+22</td>\n",
       "      <td>362600000.0</td>\n",
       "      <td>0.000032</td>\n",
       "      <td>-8.891307e-11</td>\n",
       "      <td>1078.2</td>\n",
       "      <td>3.205873e-20</td>\n",
       "      <td>0.000000e+00</td>\n",
       "      <td>1.093064e-12</td>\n",
       "      <td>9.532742e-26</td>\n",
       "    </tr>\n",
       "    <tr>\n",
       "      <th>7.857840e-18</th>\n",
       "      <td>5.972200e+24</td>\n",
       "      <td>7.342000e+22</td>\n",
       "      <td>362600000.0</td>\n",
       "      <td>0.000063</td>\n",
       "      <td>-1.778261e-10</td>\n",
       "      <td>1078.2</td>\n",
       "      <td>9.617619e-20</td>\n",
       "      <td>5.591760e-33</td>\n",
       "      <td>2.186128e-12</td>\n",
       "      <td>2.859823e-25</td>\n",
       "    </tr>\n",
       "    <tr>\n",
       "      <th>3.929706e-14</th>\n",
       "      <td>5.972200e+24</td>\n",
       "      <td>7.342000e+22</td>\n",
       "      <td>362600000.0</td>\n",
       "      <td>0.316291</td>\n",
       "      <td>-8.893086e-07</td>\n",
       "      <td>1078.2</td>\n",
       "      <td>1.603578e-12</td>\n",
       "      <td>6.992497e-22</td>\n",
       "      <td>1.093283e-08</td>\n",
       "      <td>4.768278e-18</td>\n",
       "    </tr>\n",
       "    <tr>\n",
       "      <th>7.858626e-14</th>\n",
       "      <td>5.972200e+24</td>\n",
       "      <td>7.342000e+22</td>\n",
       "      <td>362600000.0</td>\n",
       "      <td>0.632519</td>\n",
       "      <td>-1.778439e-06</td>\n",
       "      <td>1078.2</td>\n",
       "      <td>6.413029e-12</td>\n",
       "      <td>4.194939e-21</td>\n",
       "      <td>2.186347e-08</td>\n",
       "      <td>1.906930e-17</td>\n",
       "    </tr>\n",
       "  </tbody>\n",
       "</table>\n",
       "</div>"
      ],
      "text/plain": [
       "                        Me            Mm          x_m       y_m          vx_m  \\\n",
       "0.000000e+00  5.972200e+24  7.342000e+22  362600000.0  0.000000  0.000000e+00   \n",
       "3.928920e-18  5.972200e+24  7.342000e+22  362600000.0  0.000032 -8.891307e-11   \n",
       "7.857840e-18  5.972200e+24  7.342000e+22  362600000.0  0.000063 -1.778261e-10   \n",
       "3.929706e-14  5.972200e+24  7.342000e+22  362600000.0  0.316291 -8.893086e-07   \n",
       "7.858626e-14  5.972200e+24  7.342000e+22  362600000.0  0.632519 -1.778439e-06   \n",
       "\n",
       "                vy_m           x_e           y_e          vx_e          vy_e  \n",
       "0.000000e+00  1078.2  0.000000e+00  0.000000e+00  0.000000e+00  0.000000e+00  \n",
       "3.928920e-18  1078.2  3.205873e-20  0.000000e+00  1.093064e-12  9.532742e-26  \n",
       "7.857840e-18  1078.2  9.617619e-20  5.591760e-33  2.186128e-12  2.859823e-25  \n",
       "3.929706e-14  1078.2  1.603578e-12  6.992497e-22  1.093283e-08  4.768278e-18  \n",
       "7.858626e-14  1078.2  6.413029e-12  4.194939e-21  2.186347e-08  1.906930e-17  "
      ]
     },
     "execution_count": 77,
     "metadata": {},
     "output_type": "execute_result"
    }
   ],
   "source": [
    "results.head()"
   ]
  },
  {
   "cell_type": "code",
   "execution_count": 78,
   "metadata": {},
   "outputs": [
    {
     "data": {
      "text/html": [
       "<div>\n",
       "<style scoped>\n",
       "    .dataframe tbody tr th:only-of-type {\n",
       "        vertical-align: middle;\n",
       "    }\n",
       "\n",
       "    .dataframe tbody tr th {\n",
       "        vertical-align: top;\n",
       "    }\n",
       "\n",
       "    .dataframe thead th {\n",
       "        text-align: right;\n",
       "    }\n",
       "</style>\n",
       "<table border=\"1\" class=\"dataframe\">\n",
       "  <thead>\n",
       "    <tr style=\"text-align: right;\">\n",
       "      <th></th>\n",
       "      <th>Me</th>\n",
       "      <th>Mm</th>\n",
       "      <th>x_m</th>\n",
       "      <th>y_m</th>\n",
       "      <th>vx_m</th>\n",
       "      <th>vy_m</th>\n",
       "      <th>x_e</th>\n",
       "      <th>y_e</th>\n",
       "      <th>vx_e</th>\n",
       "      <th>vy_e</th>\n",
       "    </tr>\n",
       "  </thead>\n",
       "  <tbody>\n",
       "    <tr>\n",
       "      <th>0.01357</th>\n",
       "      <td>5.806575e+24</td>\n",
       "      <td>2.390450e+23</td>\n",
       "      <td>1.331153e+07</td>\n",
       "      <td>1.309051e+09</td>\n",
       "      <td>-2251.313798</td>\n",
       "      <td>7291.519071</td>\n",
       "      <td>3.600307e+06</td>\n",
       "      <td>1.308592e+09</td>\n",
       "      <td>92.690366</td>\n",
       "      <td>-286.921901</td>\n",
       "    </tr>\n",
       "    <tr>\n",
       "      <th>0.01357</th>\n",
       "      <td>5.806575e+24</td>\n",
       "      <td>2.390452e+23</td>\n",
       "      <td>1.288958e+07</td>\n",
       "      <td>1.310232e+09</td>\n",
       "      <td>-2934.045958</td>\n",
       "      <td>7212.186806</td>\n",
       "      <td>3.617679e+06</td>\n",
       "      <td>1.308546e+09</td>\n",
       "      <td>120.797205</td>\n",
       "      <td>-283.656281</td>\n",
       "    </tr>\n",
       "    <tr>\n",
       "      <th>0.01357</th>\n",
       "      <td>5.806575e+24</td>\n",
       "      <td>2.390455e+23</td>\n",
       "      <td>1.235476e+07</td>\n",
       "      <td>1.311391e+09</td>\n",
       "      <td>-3638.576795</td>\n",
       "      <td>7030.811460</td>\n",
       "      <td>3.639698e+06</td>\n",
       "      <td>1.308500e+09</td>\n",
       "      <td>149.801517</td>\n",
       "      <td>-276.189737</td>\n",
       "    </tr>\n",
       "    <tr>\n",
       "      <th>0.01357</th>\n",
       "      <td>5.806574e+24</td>\n",
       "      <td>2.390458e+23</td>\n",
       "      <td>1.150454e+07</td>\n",
       "      <td>1.312817e+09</td>\n",
       "      <td>-4536.439121</td>\n",
       "      <td>6637.658270</td>\n",
       "      <td>3.674702e+06</td>\n",
       "      <td>1.308445e+09</td>\n",
       "      <td>186.765046</td>\n",
       "      <td>-260.004766</td>\n",
       "    </tr>\n",
       "    <tr>\n",
       "      <th>0.01357</th>\n",
       "      <td>5.806574e+24</td>\n",
       "      <td>2.390461e+23</td>\n",
       "      <td>1.078472e+07</td>\n",
       "      <td>1.313776e+09</td>\n",
       "      <td>-5142.141997</td>\n",
       "      <td>6242.573048</td>\n",
       "      <td>3.704337e+06</td>\n",
       "      <td>1.308407e+09</td>\n",
       "      <td>211.700919</td>\n",
       "      <td>-243.740105</td>\n",
       "    </tr>\n",
       "  </tbody>\n",
       "</table>\n",
       "</div>"
      ],
      "text/plain": [
       "                   Me            Mm           x_m           y_m         vx_m  \\\n",
       "0.01357  5.806575e+24  2.390450e+23  1.331153e+07  1.309051e+09 -2251.313798   \n",
       "0.01357  5.806575e+24  2.390452e+23  1.288958e+07  1.310232e+09 -2934.045958   \n",
       "0.01357  5.806575e+24  2.390455e+23  1.235476e+07  1.311391e+09 -3638.576795   \n",
       "0.01357  5.806574e+24  2.390458e+23  1.150454e+07  1.312817e+09 -4536.439121   \n",
       "0.01357  5.806574e+24  2.390461e+23  1.078472e+07  1.313776e+09 -5142.141997   \n",
       "\n",
       "                vy_m           x_e           y_e        vx_e        vy_e  \n",
       "0.01357  7291.519071  3.600307e+06  1.308592e+09   92.690366 -286.921901  \n",
       "0.01357  7212.186806  3.617679e+06  1.308546e+09  120.797205 -283.656281  \n",
       "0.01357  7030.811460  3.639698e+06  1.308500e+09  149.801517 -276.189737  \n",
       "0.01357  6637.658270  3.674702e+06  1.308445e+09  186.765046 -260.004766  \n",
       "0.01357  6242.573048  3.704337e+06  1.308407e+09  211.700919 -243.740105  "
      ]
     },
     "execution_count": 78,
     "metadata": {},
     "output_type": "execute_result"
    }
   ],
   "source": [
    "results.tail()"
   ]
  },
  {
   "cell_type": "code",
   "execution_count": null,
   "metadata": {},
   "outputs": [],
   "source": []
  },
  {
   "cell_type": "code",
   "execution_count": null,
   "metadata": {},
   "outputs": [],
   "source": []
  }
 ],
 "metadata": {
  "kernelspec": {
   "display_name": "Python 3",
   "language": "python",
   "name": "python3"
  },
  "language_info": {
   "codemirror_mode": {
    "name": "ipython",
    "version": 3
   },
   "file_extension": ".py",
   "mimetype": "text/x-python",
   "name": "python",
   "nbconvert_exporter": "python",
   "pygments_lexer": "ipython3",
   "version": "3.6.6"
  }
 },
 "nbformat": 4,
 "nbformat_minor": 2
}
