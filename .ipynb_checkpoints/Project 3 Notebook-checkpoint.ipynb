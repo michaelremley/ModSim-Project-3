{
 "cells": [
  {
   "cell_type": "markdown",
   "metadata": {},
   "source": [
    "# Moon - Earth Collision (Here Comes the Moon)\n",
    "\n",
    "## Emma and Michael"
   ]
  },
  {
   "cell_type": "code",
   "execution_count": 301,
   "metadata": {},
   "outputs": [],
   "source": [
    "# Configure Jupyter so figures appear in the notebook\n",
    "%matplotlib inline\n",
    "\n",
    "# Configure Jupyter to display the assigned value after an assignment\n",
    "%config InteractiveShell.ast_node_interactivity='last_expr_or_assign'\n",
    "\n",
    "# import functions from the modsim library\n",
    "from modsim import *\n",
    "import math"
   ]
  },
  {
   "cell_type": "markdown",
   "metadata": {},
   "source": [
    "## Question"
   ]
  },
  {
   "cell_type": "markdown",
   "metadata": {},
   "source": [
    "The moon currently has a stable orbit around the earth, only drifting outwards by 4 cm a year. But what if we wanted to throw off that orbit completely?\n",
    "\n",
    "Fred is an Olin first-year student who, well, let’s just say he enjoys being at school, but his work is not quality enough to give him a competitive edge in the real world. Luckily, he’s self-aware enough to realize this problem. He figures the only reasonable solution is to end the world on the day of his graduation from Olin (May 20, 2018) by crashing the moon into the earth.\n",
    "\n",
    "His plan is to crash large amounts of replicas of Saturn V rockets into the moon. The effects of these rockets are twofold. First off, the mass transferred from the earth to the moon in the form of rockets will increase the gravitational force between the two bodies, as described by the Law of Universal Gravitation. Secondly, the rockets crash into the moon’s orbital path, thus slowing the moon down, decreasing its momentum and its ability to hold a stable orbit around the earth.\n",
    "\n",
    "Before he can start on the non-trivial task of raising money for his creation of these rockets (his kickstarter goal may well be larger than the sum total of the economic production of the human race since the beginning of time), he must answer the question,\n",
    "\n",
    "### How many rockets per second must hit the moon, starting December 14, 2018, to cause the moon to crash into the earth on May 20, 2022?\n"
   ]
  },
  {
   "cell_type": "markdown",
   "metadata": {},
   "source": [
    "## Model"
   ]
  },
  {
   "cell_type": "markdown",
   "metadata": {},
   "source": [
    "In Fred’s version of our universe, everything is flat (2-d) and only the moon and earth exist (i.e. the sun is not a part of the model, nor are the other planets of our solar system). The moon and earth both exert gravitational force on and move around each other. They were in a realistic, stable orbit until Fred began launching rockets into the moon’s orbital path, increasing its mass to eventually cause it to fall to the Earth. Fred’s system for launching rockets miraculously transports the mass from the Earth without changing the Earth’s momentum, so the earth's mass decreases at the same rate that the moon's mass increases."
   ]
  },
  {
   "cell_type": "markdown",
   "metadata": {},
   "source": [
    "We begin with establishing parameters for the model. The masses of the earth and the moon reflect actual values, and the moon’s initial position and velocity are that of its perigee. earth_radius and moon radius are functions that calculate the radii based on the bodies’ masses, which are constantly changing. It also contains the number of rockets sent to the moon per second, which is the parameter we are trying to optimize."
   ]
  },
  {
   "cell_type": "code",
   "execution_count": 302,
   "metadata": {},
   "outputs": [],
   "source": [
    "def earth_radius(mass):\n",
    "    \"\"\"Computes earth's radius from its mass.\n",
    "    \n",
    "    mass: earth's mass in kg\n",
    "    Returns: radius in meters\n",
    "    \"\"\"\n",
    "    density = 5514 # 5514 kg/m3 from NASA Earth Fact Sheet\n",
    "    Re = (3*mass / (4*pi*density))**(1/3)\n",
    "    return Re\n",
    "\n",
    "def moon_radius(mass):\n",
    "    \"\"\"Computes moon's radius from its mass.\n",
    "    \n",
    "    mass: moon's mass in kg\n",
    "    Returns: radius in meters\n",
    "    \"\"\"\n",
    "    density = 3344 # 3344 kg/m3 from NASA Moon Fact Sheet\n",
    "    Rm = (3*mass / (4*pi*density))**(1/3)\n",
    "    return Rm"
   ]
  },
  {
   "cell_type": "code",
   "execution_count": 342,
   "metadata": {},
   "outputs": [],
   "source": [
    "params = Params(num_rockets = 2.4448e+08,\n",
    "                r_e = earth_radius,\n",
    "                r_m = moon_radius,\n",
    "                G=6.674e-11, #N / kg**2 * m**2\n",
    "                t_0=0,\n",
    "                t_end=5*365*24*60*60, \n",
    "                x_0 = 362600000, # 362,600 km at perigee\n",
    "                v_0 = 1078.2, # 1078.2 m/s at perigee\n",
    "                Me_0 = 5.9722e24, # 5.9722×10^24 kg\n",
    "                Mm_0 = 7.342e22); # 7.342×10^22 kg"
   ]
  },
  {
   "cell_type": "markdown",
   "metadata": {},
   "source": [
    "The model’s System object contains its parameters, including dmdt, which is the mass rate of change of the moon as caused by the rockets being sent to it. Note that the earth is losing mass at the same rate. The initial condition of the simulation is includes the masses and the x and y positions and velocities of the moon and the earth."
   ]
  },
  {
   "cell_type": "code",
   "execution_count": 21,
   "metadata": {},
   "outputs": [],
   "source": [
    "def make_system(params):\n",
    "    \"\"\"Creates system object \n",
    "    \n",
    "    params: Params object \n",
    "    Returns: System object with initial state and params\n",
    "    \"\"\"\n",
    "    num_rockets, r_e, r_m, G, t_0, t_end, x_0, v_0, Me_0, Mm_0 = params\n",
    "    \n",
    "    dmdt = 6.54e6*num_rockets\n",
    "    \n",
    "    init = State(Me = Me_0, # Initial mass of earth\n",
    "             Mm = Mm_0, #Initial mass of moon\n",
    "             x_m=x_0, # 362,600 km at perigee\n",
    "             y_m=0,\n",
    "             vx_m=0,\n",
    "             vy_m=v_0, # 1078.2 m/s at perigee\n",
    "             x_e = 0,\n",
    "             y_e = 0,\n",
    "             vx_e = 0,\n",
    "             vy_e = 0\n",
    "            )\n",
    "    system = System(init = init,\n",
    "                dmdt =dmdt,\n",
    "                r_e = earth_radius,\n",
    "                r_m = moon_radius,\n",
    "                G=6.674e-11, #N / kg**2 * m**2\n",
    "                t_0=0,\n",
    "                t_end=5*365*24*60*60, \n",
    "                x_0 = 362600000, # 362,600 km at perigee\n",
    "                v_0 = 1078.2, # 1078.2 m/s at perigee\n",
    "                Me_0 = 5.9722e24, # 5.9722×10^24 kg\n",
    "                Mm_0 = 7.342e22) # 7.342×10^22 kg\n",
    "    \n",
    "    return system"
   ]
  },
  {
   "cell_type": "markdown",
   "metadata": {},
   "source": [
    "The net force on the moon is made up two forces:\n",
    "- The force of gravitation\n",
    "    - This is calculated using the Universal Law of Gravitation.\n",
    "- The force of the collision with rockets, conserving momentum\n",
    "    - This is equivalent to the mass sent to the moon times the negative of its velocity."
   ]
  },
  {
   "cell_type": "code",
   "execution_count": 305,
   "metadata": {},
   "outputs": [],
   "source": [
    "def net_force_moon(state, system):\n",
    "    \"\"\"Computes gravitational force on the moon.\n",
    "    \n",
    "    state: State object with distance r\n",
    "    system: System object with m1, m2, and G\n",
    "    \n",
    "    returns: vector\n",
    "    \"\"\"\n",
    "    Me,Mm,x_m,y_m,vx_m,vy_m,x_e,y_e,vx_e,vy_e = state\n",
    "    unpack(system)\n",
    "    \n",
    "    #Gravitational Force\n",
    "    r = sqrt((x_m-x_e)**2 + (y_m-y_e)**2)\n",
    "    force= G * Me * Mm / r**2\n",
    "    direction = math.atan2(y_m-y_e,x_m-x_e) + pi \n",
    "    gravitational_force = Vector(force * math.cos(direction), force*math.sin(direction) )\n",
    "    \n",
    "    # Moon momentum contribution\n",
    "    collision_force = dmdt * -(Vector(vx_m,vy_m))\n",
    "    \n",
    "    return gravitational_force + collision_force"
   ]
  },
  {
   "cell_type": "markdown",
   "metadata": {},
   "source": [
    "There is only one force on the earth, the gravitational pull of the moon. This is once again calculated using the Law of Universal Gravitation."
   ]
  },
  {
   "cell_type": "code",
   "execution_count": 306,
   "metadata": {},
   "outputs": [],
   "source": [
    "def net_force_earth(state, system):\n",
    "    \"\"\"Computes gravitational force on the earth.\n",
    "    \n",
    "    state: State object with distance r\n",
    "    system: System object with m1, m2, and G\n",
    "    \n",
    "    returns: vector\n",
    "    \"\"\"\n",
    "    Me,Mm,x_m,y_m,vx_m,vy_m,x_e,y_e,vx_e,vy_e = state\n",
    "    unpack(system)\n",
    "    \n",
    "    #Gravitational Force\n",
    "    r = sqrt((x_m-x_e)**2 + (y_m-y_e)**2)\n",
    "    force= G * Me * Mm / r**2\n",
    "    direction = math.atan2(y_m-y_e,x_m-x_e)\n",
    "    gravitational_force = Vector(force * math.cos(direction), force*math.sin(direction) )\n",
    "    \n",
    "    return gravitational_force"
   ]
  },
  {
   "cell_type": "markdown",
   "metadata": {},
   "source": [
    "Each time step forward is calculated by the slope function. It updates the masses of the earth and the moon, as well as their position and velocity in two dimensions. To do so, it calls the net force functions and uses F = MA to calculate the change in velocity within the time step."
   ]
  },
  {
   "cell_type": "code",
   "execution_count": 307,
   "metadata": {},
   "outputs": [],
   "source": [
    "def slope_func(state,t,system):\n",
    "    \"\"\"Calculates change in earth's and moon's mass, position and velocity over one timestep\n",
    "    \n",
    "    state: State object with earth's and moon's mass, position and velocity (scalar)\n",
    "    t: time within simulation\n",
    "    system: System object with simulation parameters\n",
    "    \n",
    "    returns: change in earth's and moon's mass, position and velocity (scalars)\"\"\"\n",
    "    \n",
    "    Me,Mm,x_m,y_m,vx_m,vy_m,x_e,y_e,vx_e,vy_e = state\n",
    "    unpack(system)\n",
    "    V_m = Vector(vx_m,vy_m)\n",
    "    V_e = Vector(vx_e,vy_e)\n",
    "    \n",
    "    Fnet_m = net_force_moon(state,system)\n",
    "    Fnet_e = net_force_earth(state,system)\n",
    "    \n",
    "    dMedt = -dmdt\n",
    "    dMmdt = dmdt\n",
    "    dxdt_m = V_m\n",
    "    dvdt_m = Fnet_m / Mm\n",
    "    dxdt_e = V_e\n",
    "    dvdt_e = Fnet_e / Me\n",
    "    \n",
    "    return dMedt, dMmdt, dxdt_m[0], dxdt_m[1], dvdt_m[0], dvdt_m[1], dxdt_e[0], dxdt_e[1], dvdt_e[0], dvdt_e[1],"
   ]
  },
  {
   "cell_type": "markdown",
   "metadata": {},
   "source": [
    "The simulation ends, as defined by the event func, when:\n",
    "- The surfaces of the moon and earth collide (the distance between the centers of the bodies are less than the sum of their radii)\n",
    "- The earth has negative mass\n",
    "- The distance between the moon and the earth reaches ten times its initial value"
   ]
  },
  {
   "cell_type": "code",
   "execution_count": 25,
   "metadata": {},
   "outputs": [],
   "source": [
    "def event_func(state,t,system):\n",
    "    \"\"\"Returns 0 when earth and moon collide, earth reaches negative mass, or moon \n",
    "       reaches 10x its original orbital radius \n",
    "       \n",
    "    state: State object with earth's and moon's mass, position and velocity (scalar)\n",
    "    t: time within simulation\n",
    "    system: System object with simulation parameters\n",
    "    \"\"\"\n",
    "    \n",
    "    Me,Mm,x_m,y_m,vx_m,vy_m,x_e,y_e,vx_e,vy_e = state\n",
    "    unpack(system)\n",
    "   \n",
    "    r = sqrt((x_m-x_e)**2 + (y_m-y_e)**2)\n",
    "    collision_radius = earth_radius(Me) + moon_radius(Mm)\n",
    "    \n",
    "    #End the simulation if there is a collision OR if the orbital radius exceeds its initial value at apogee\n",
    "    if(Me < 0):\n",
    "        print('Negative mass is really sad...')\n",
    "        return 0\n",
    "    elif(r > init.x_0):\n",
    "        print('The moon escaped our experiment!')\n",
    "        return 0\n",
    "    else:\n",
    "        return r - collision_radius\n"
   ]
  },
  {
   "cell_type": "markdown",
   "metadata": {},
   "source": [
    "A single run of the simulation is demonstrated below, with a billion rockets per second thrown at the moon."
   ]
  },
  {
   "cell_type": "code",
   "execution_count": 26,
   "metadata": {},
   "outputs": [
    {
     "data": {
      "text/plain": [
       "[<matplotlib.lines.Line2D at 0x1befc3192e8>]"
      ]
     },
     "execution_count": 26,
     "metadata": {},
     "output_type": "execute_result"
    },
    {
     "data": {
      "image/png": "[encoded data removed]",
      "text/plain": [
       "<Figure size 432x288 with 1 Axes>"
      ]
     },
     "metadata": {},
     "output_type": "display_data"
    }
   ],
   "source": [
    "params = Params(params, num_rockets=1e9)\n",
    "system = make_system(params)\n",
    "results, details = run_ode_solver(system, slope_func, events=event_func, method=\"LSODA\")\n",
    "results.index /= 24*60*60*365\n",
    "\n",
    "plot(results.x_m,results.y_m)\n",
    "plot(results.x_e,results.y_e)"
   ]
  },
  {
   "cell_type": "code",
   "execution_count": 27,
   "metadata": {},
   "outputs": [
    {
     "data": {
      "text/plain": [
       "1.169491265876398"
      ]
     },
     "execution_count": 27,
     "metadata": {},
     "output_type": "execute_result"
    }
   ],
   "source": [
    "results.index[-1]"
   ]
  },
  {
   "cell_type": "markdown",
   "metadata": {},
   "source": [
    "The moon crashes into the earth in a bit over a year, which means the mass rate of change is too high. To determine the number of rockets per second that will cause the moon to crash on graduation (3.52 years), we need to sweep num_rockets.\n",
    "\n",
    "The error function runs the simulation, and returns the difference between the target runtime and simulation runtime. We then sweep through a range of values to determine the approximate number of rockets."
   ]
  },
  {
   "cell_type": "code",
   "execution_count": 335,
   "metadata": {},
   "outputs": [],
   "source": [
    "def error_func(rockets, params):\n",
    "    \"\"\"Calculates error between ideal crash time and simulated crash time given number of rockets\n",
    "    \n",
    "    rockets:  number of rockets\n",
    "    params: system parameters\n",
    "    \n",
    "    returns: scalar\"\"\"\n",
    "    \n",
    "    params = Params(params, num_rockets=rockets)\n",
    "    system = make_system(params)\n",
    "    results, details = run_ode_solver(system, slope_func, events=event_func, method=\"LSODA\")\n",
    "    results.index /= 24*60*60*365\n",
    "    return abs(results.index[-1] - 3.52)"
   ]
  },
  {
   "cell_type": "code",
   "execution_count": null,
   "metadata": {},
   "outputs": [],
   "source": [
    "def sweep_rockets(rocket_array):\n",
    "    \"\"\"Calculates ideal versus siumlated crash time error through a range of rocket numbers\n",
    "    \n",
    "    rocket_array: array containing a range of rocket values\n",
    "    \n",
    "    returns: SweepSeries\"\"\"\n",
    "    \n",
    "    sweep = SweepSeries()\n",
    "    for rock in rocket_array:\n",
    "        error = error_func(rock, params)*365\n",
    "        #print(rock, dday)\n",
    "        sweep[rock] = error\n",
    "    \n",
    "    plot(sweep, color='C2')\n",
    "    decorate(xlabel='Number of Rockets (count)',\n",
    "         ylabel='Error (yr)',\n",
    "         title='Time vs Number of Rockets',\n",
    "         legend=False)\n",
    "    \n",
    "    return sweep"
   ]
  },
  {
   "cell_type": "code",
   "execution_count": null,
   "metadata": {},
   "outputs": [],
   "source": [
    "large_sweep_array = linspace(1e7, 1e9, 22)\n",
    "sweep = sweep_rockets(large_sweep_array)"
   ]
  },
  {
   "cell_type": "markdown",
   "metadata": {},
   "source": [
    "To close in on the optimal number of rockets, we sweep through a smaller range of values."
   ]
  },
  {
   "cell_type": "code",
   "execution_count": 349,
   "metadata": {},
   "outputs": [
    {
     "name": "stdout",
     "output_type": "stream",
     "text": [
      "180000000.0 136.3132489281276\n",
      "182857142.85714287 152.2267403958579\n",
      "185714285.7142857 123.92892998253046\n",
      "188571428.57142857 121.55790768713968\n",
      "191428571.42857143 44.08567279322594\n",
      "194285714.2857143 30.881192479710148\n",
      "197142857.14285713 45.699701848479464\n",
      "200000000.0 39.806601773336915\n",
      "202857142.85714287 89.84737224724157\n",
      "205714285.71428573 47.36136616190376\n",
      "208571428.57142857 2.5136675326965863\n",
      "211428571.42857143 78.98888866335841\n",
      "214285714.28571427 5.345155899282434\n",
      "217142857.14285713 2.148718537067864\n",
      "220000000.0 8.380343479797308\n",
      "222857142.85714287 97.08918638314553\n",
      "225714285.71428573 28.182071603322466\n",
      "228571428.57142857 102.51965488288094\n",
      "231428571.42857143 59.40555336646757\n",
      "234285714.2857143 16.61516793476928\n",
      "237142857.14285713 76.50132405053435\n",
      "240000000.0 115.42650021265004\n"
     ]
    }
   ],
   "source": [
    "narrow_sweep_array = linspace(1.8e8, 2.4e8, 22)\n",
    "sweep2 = sweep_rockets(narrow_sweep_array)"
   ]
  },
  {
   "cell_type": "markdown",
   "metadata": {},
   "source": [
    "## Results"
   ]
  },
  {
   "cell_type": "code",
   "execution_count": null,
   "metadata": {},
   "outputs": [],
   "source": []
  },
  {
   "cell_type": "code",
   "execution_count": null,
   "metadata": {},
   "outputs": [],
   "source": []
  },
  {
   "cell_type": "markdown",
   "metadata": {},
   "source": [
    "## Interpretation"
   ]
  },
  {
   "cell_type": "markdown",
   "metadata": {},
   "source": [
    "Things to talk about:\n",
    " - Obscenely high number of rockets --> obscenely high cost\n",
    " - Uncertainty: different ode solver methods acting differently, error line not smooth \n",
    " - Rockets running into moon math might be weird"
   ]
  },
  {
   "cell_type": "code",
   "execution_count": null,
   "metadata": {},
   "outputs": [],
   "source": []
  },
  {
   "cell_type": "markdown",
   "metadata": {},
   "source": [
    "## Code we are not currently using"
   ]
  },
  {
   "cell_type": "code",
   "execution_count": 336,
   "metadata": {},
   "outputs": [],
   "source": [
    "def fsolve2(func, x0, *args, **options):\n",
    "    \"\"\"Return the roots of the (non-linear) equations\n",
    "    defined by func(x) = 0 given a starting estimate.\n",
    "\n",
    "    Uses scipy.optimize.fsolve, with extra error-checking.\n",
    "\n",
    "    func: function to find the roots of\n",
    "    x0: scalar or array, initial guess\n",
    "    args: additional positional arguments are passed along to fsolve,\n",
    "          which passes them along to func\n",
    "\n",
    "    returns: solution as an array\n",
    "    \"\"\"\n",
    "    # make sure we can run the given function with x0\n",
    "    try:\n",
    "        func(x0, *args)\n",
    "    except Exception as e:\n",
    "        msg = \"\"\"Before running scipy.optimize.fsolve, I tried\n",
    "                 running the error function you provided with the x0\n",
    "                 you provided, and I got the following error:\"\"\"\n",
    "        logger.error(msg)\n",
    "        raise(e)\n",
    "\n",
    "    # make the tolerance more forgiving than the default\n",
    "    underride(options, xtol=1e-2)\n",
    "\n",
    "    x0 = magnitude(x0)\n",
    "\n",
    "    # run fsolve\n",
    "    with units_off():\n",
    "        result = scipy.optimize.fsolve(func, x0, args=args, **options)\n",
    "\n",
    "    return result"
   ]
  },
  {
   "cell_type": "code",
   "execution_count": 338,
   "metadata": {},
   "outputs": [
    {
     "name": "stdout",
     "output_type": "stream",
     "text": [
      "Wall time: 11min 57s\n"
     ]
    }
   ],
   "source": [
    "%time res = min_bounded(error_func, [1e7, 1e10], params)"
   ]
  }
 ],
 "metadata": {
  "kernelspec": {
   "display_name": "Python 3",
   "language": "python",
   "name": "python3"
  },
  "language_info": {
   "codemirror_mode": {
    "name": "ipython",
    "version": 3
   },
   "file_extension": ".py",
   "mimetype": "text/x-python",
   "name": "python",
   "nbconvert_exporter": "python",
   "pygments_lexer": "ipython3",
   "version": "3.6.6"
  }
 },
 "nbformat": 4,
 "nbformat_minor": 2
}
