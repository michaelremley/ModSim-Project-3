{
 "cells": [
  {
   "cell_type": "markdown",
   "metadata": {},
   "source": [
    "# Moon - Earth Collision (Here Comes the Moon)\n",
    "\n",
    "## Emma and Michael"
   ]
  },
  {
   "cell_type": "code",
   "execution_count": 301,
   "metadata": {},
   "outputs": [],
   "source": [
    "# Configure Jupyter so figures appear in the notebook\n",
    "%matplotlib inline\n",
    "\n",
    "# Configure Jupyter to display the assigned value after an assignment\n",
    "%config InteractiveShell.ast_node_interactivity='last_expr_or_assign'\n",
    "\n",
    "# import functions from the modsim library\n",
    "from modsim import *\n",
    "import math"
   ]
  },
  {
   "cell_type": "markdown",
   "metadata": {},
   "source": [
    "## Question"
   ]
  },
  {
   "cell_type": "markdown",
   "metadata": {},
   "source": [
    "The moon currently has a stable orbit around the earth, only drifting outwards by 4 cm a year. But what if we wanted to throw off that orbit completely?\n",
    "\n",
    "Fred is an Olin first-year student who, well, let’s just say he enjoys being at school, but his work is not quality enough to give him a competitive edge in the real world. Luckily, he’s self-aware enough to realize this problem. He figures the only reasonable solution is to end the world on the day of his graduation from Olin (May 20, 2018) by crashing the moon into the earth.\n",
    "\n",
    "His plan is to crash large amounts of replicas of Saturn V rockets into the moon. The effects of these rockets are twofold. First off, the mass transferred from the earth to the moon in the form of rockets will increase the gravitational force between the two bodies, as described by the Law of Universal Gravitation. Secondly, the rockets crash into the moon’s orbital path, thus slowing the moon down, decreasing its momentum and its ability to hold a stable orbit around the earth.\n",
    "\n",
    "Before he can start on the non-trivial task of raising money for his creation of these rockets (his kickstarter goal may well be larger than the sum total of the economic production of the human race since the beginning of time), he must answer the question,\n",
    "\n",
    "### How many rockets per second must hit the moon, starting December 14, 2018, to cause the moon to crash into the earth on May 20, 2022?\n"
   ]
  },
  {
   "cell_type": "markdown",
   "metadata": {},
   "source": [
    "## Model"
   ]
  },
  {
   "cell_type": "markdown",
   "metadata": {},
   "source": [
    "In Fred’s version of our universe, everything is flat (2-d) and only the moon and earth exist (i.e. the sun is not a part of the model, nor are the other planets of our solar system). The moon and earth both exert gravitational force on and move around each other. They were in a realistic, stable orbit until Fred began launching rockets into the moon’s orbital path, increasing its mass to eventually cause it to fall to the Earth. Fred’s system for launching rockets miraculously transports the mass from the Earth without changing the Earth’s momentum, so the earth's mass decreases at the same rate that the moon's mass increases."
   ]
  },
  {
   "cell_type": "markdown",
   "metadata": {},
   "source": [
    "We begin with establishing parameters for the model. The masses of the earth and the moon reflect actual values, and the moon’s initial position and velocity are that of its perigee. earth_radius and moon radius are functions that calculate the radii based on the bodies’ masses, which are constantly changing. It also contains the number of rockets sent to the moon per second, which is the parameter we are trying to optimize."
   ]
  },
  {
   "cell_type": "code",
   "execution_count": 302,
   "metadata": {},
   "outputs": [],
   "source": [
    "def earth_radius(mass):\n",
    "    density = 5514 # 5514 kg/m3 from NASA Earth Fact Sheet\n",
    "    Re = (3*mass / (4*pi*density))**(1/3)\n",
    "    return Re\n",
    "\n",
    "def moon_radius(mass):\n",
    "    density = 3344 # 3344 kg/m3 from NASA Moon Fact Sheet\n",
    "    Rm = (3*mass / (4*pi*density))**(1/3)\n",
    "    return Rm"
   ]
  },
  {
   "cell_type": "code",
   "execution_count": 342,
   "metadata": {},
   "outputs": [],
   "source": [
    "params = Params(num_rockets = 2.4448e+08,\n",
    "                r_e = earth_radius,\n",
    "                r_m = moon_radius,\n",
    "                G=6.674e-11, #N / kg**2 * m**2\n",
    "                t_0=0,\n",
    "                t_end=5*365*24*60*60, \n",
    "                x_0 = 362600000, # 362,600 km at perigee\n",
    "                v_0 = 1078.2, # 1078.2 m/s at perigee\n",
    "                Me_0 = 5.9722e24, # 5.9722×10^24 kg\n",
    "                Mm_0 = 7.342e22); # 7.342×10^22 kg"
   ]
  },
  {
   "cell_type": "markdown",
   "metadata": {},
   "source": [
    "The model’s System object contains its parameters, including dmdt, which is the mass rate of change of the moon as caused by the rockets being sent to it. Note that the earth is losing mass at the same rate. The initial condition of the simulation is includes the masses and the x and y positions and velocities of the moon and the earth."
   ]
  },
  {
   "cell_type": "code",
   "execution_count": 21,
   "metadata": {},
   "outputs": [],
   "source": [
    "def make_system(params):\n",
    "    num_rockets, r_e, r_m, G, t_0, t_end, x_0, v_0, Me_0, Mm_0 = params\n",
    "    \n",
    "    dmdt = 6.54e6*num_rockets\n",
    "    \n",
    "    init = State(Me = Me_0, # Initial mass of earth\n",
    "             Mm = Mm_0, #Initial mass of moon\n",
    "             x_m=x_0, # 362,600 km at perigee\n",
    "             y_m=0,\n",
    "             vx_m=0,\n",
    "             vy_m=v_0, # 1078.2 m/s at perigee\n",
    "             x_e = 0,\n",
    "             y_e = 0,\n",
    "             vx_e = 0,\n",
    "             vy_e = 0\n",
    "            )\n",
    "    system = System(init = init,\n",
    "                dmdt =dmdt,\n",
    "                r_e = earth_radius,\n",
    "                r_m = moon_radius,\n",
    "                G=6.674e-11, #N / kg**2 * m**2\n",
    "                t_0=0,\n",
    "                t_end=5*365*24*60*60, \n",
    "                x_0 = 362600000, # 362,600 km at perigee\n",
    "                v_0 = 1078.2, # 1078.2 m/s at perigee\n",
    "                Me_0 = 5.9722e24, # 5.9722×10^24 kg\n",
    "                Mm_0 = 7.342e22) # 7.342×10^22 kg\n",
    "    \n",
    "    return system\n",
    "\n",
    "system = make_system(params);"
   ]
  },
  {
   "cell_type": "markdown",
   "metadata": {},
   "source": [
    "The net force on the moon is made up two forces:\n",
    "- The force of gravitation\n",
    "    - This is calculated using the Universal Law of Gravitation.\n",
    "- The force of the collision with rockets, conserving momentum\n",
    "    - This is equivalent to the mass sent to the moon times the negative of its velocity."
   ]
  },
  {
   "cell_type": "code",
   "execution_count": 305,
   "metadata": {},
   "outputs": [],
   "source": [
    "def net_force_moon(state, system):\n",
    "    \"\"\"Computes gravitational force on the moon.\n",
    "    \n",
    "    state: State object with distance r\n",
    "    system: System object with m1, m2, and G\n",
    "    \n",
    "    returns: vector\n",
    "    \"\"\"\n",
    "    Me,Mm,x_m,y_m,vx_m,vy_m,x_e,y_e,vx_e,vy_e = state\n",
    "    unpack(system)\n",
    "    \n",
    "    #Gravitational Force\n",
    "    r = sqrt((x_m-x_e)**2 + (y_m-y_e)**2)\n",
    "    force= G * Me * Mm / r**2\n",
    "    direction = math.atan2(y_m-y_e,x_m-x_e) + pi \n",
    "    gravitational_force = Vector(force * math.cos(direction), force*math.sin(direction) )\n",
    "    \n",
    "    # Moon momentum contribution\n",
    "    collision_force = dmdt * -(Vector(vx_m,vy_m))\n",
    "    \n",
    "    return gravitational_force + collision_force"
   ]
  },
  {
   "cell_type": "markdown",
   "metadata": {},
   "source": [
    "There is only one force on the earth, the gravitational pull of the moon. This is once again calculated using the Law of Universal Gravitation."
   ]
  },
  {
   "cell_type": "code",
   "execution_count": 306,
   "metadata": {},
   "outputs": [],
   "source": [
    "def net_force_earth(state, system):\n",
    "    \"\"\"Computes gravitational force on the earth.\n",
    "    \n",
    "    state: State object with distance r\n",
    "    system: System object with m1, m2, and G\n",
    "    \"\"\"\n",
    "    Me,Mm,x_m,y_m,vx_m,vy_m,x_e,y_e,vx_e,vy_e = state\n",
    "    unpack(system)\n",
    "    \n",
    "    #Gravitational Force\n",
    "    r = sqrt((x_m-x_e)**2 + (y_m-y_e)**2)\n",
    "    force= G * Me * Mm / r**2\n",
    "    direction = math.atan2(y_m-y_e,x_m-x_e)\n",
    "    gravitational_force = Vector(force * math.cos(direction), force*math.sin(direction) )\n",
    "    \n",
    "    return gravitational_force"
   ]
  },
  {
   "cell_type": "markdown",
   "metadata": {},
   "source": [
    "Each time step forward is calculated by the slope function. It updates the masses of the earth and the moon, as well as their position and velocity in two dimensions. To do so, it calls the net force functions and uses F = MA to calculate the change in velocity within the time step."
   ]
  },
  {
   "cell_type": "code",
   "execution_count": 307,
   "metadata": {},
   "outputs": [],
   "source": [
    "def slope_func(state,t,system):\n",
    "    \n",
    "    Me,Mm,x_m,y_m,vx_m,vy_m,x_e,y_e,vx_e,vy_e = state\n",
    "    unpack(system)\n",
    "    V_m = Vector(vx_m,vy_m)\n",
    "    V_e = Vector(vx_e,vy_e)\n",
    "    \n",
    "    Fnet_m = net_force_moon(state,system)\n",
    "    Fnet_e = net_force_earth(state,system)\n",
    "    \n",
    "    dMedt = -dmdt\n",
    "    dMmdt = dmdt\n",
    "    dxdt_m = V_m\n",
    "    dvdt_m = Fnet_m / Mm\n",
    "    dxdt_e = V_e\n",
    "    dvdt_e = Fnet_e / Me\n",
    "    \n",
    "    return dMedt, dMmdt, dxdt_m[0], dxdt_m[1], dvdt_m[0], dvdt_m[1], dxdt_e[0], dxdt_e[1], dvdt_e[0], dvdt_e[1],"
   ]
  },
  {
   "cell_type": "markdown",
   "metadata": {},
   "source": [
    "The simulation ends, as defined by the event func, when:\n",
    "- The surfaces of the moon and earth collide (the distance between the centers of the bodies are less than the sum of their radii)\n",
    "- The earth has negative mass\n",
    "- The distance between the moon and the earth reaches ten times its initial value"
   ]
  },
  {
   "cell_type": "code",
   "execution_count": 25,
   "metadata": {},
   "outputs": [],
   "source": [
    "def event_func(state,t,system):\n",
    "    Me,Mm,x_m,y_m,vx_m,vy_m,x_e,y_e,vx_e,vy_e = state\n",
    "    unpack(system)\n",
    "   \n",
    "    r = sqrt((x_m-x_e)**2 + (y_m-y_e)**2)\n",
    "    collision_radius = earth_radius(Me) + moon_radius(Mm)\n",
    "    \n",
    "    #End the simulation if there is a collision OR if the orbital radius exceeds its initial value at apogee\n",
    "    if(Me < 0):\n",
    "        print('Negative mass is really sad...')\n",
    "        return 0\n",
    "    elif(r > 3.626e9):\n",
    "        print('The moon escaped our experiment!')\n",
    "        return 0\n",
    "    else:\n",
    "        return r - collision_radius\n"
   ]
  },
  {
   "cell_type": "markdown",
   "metadata": {},
   "source": [
    "A single run of the simulation is demonstrated below, with a billion rockets per second thrown at the moon."
   ]
  },
  {
   "cell_type": "code",
   "execution_count": 26,
   "metadata": {},
   "outputs": [
    {
     "data": {
      "text/plain": [
       "[<matplotlib.lines.Line2D at 0x1befc3192e8>]"
      ]
     },
     "execution_count": 26,
     "metadata": {},
     "output_type": "execute_result"
    },
    {
     "data": {
      "image/png": "[encoded data removed]",
      "text/plain": [
       "<Figure size 432x288 with 1 Axes>"
      ]
     },
     "metadata": {},
     "output_type": "display_data"
    }
   ],
   "source": [
    "params = Params(params, num_rockets=1e9)\n",
    "system = make_system(params)\n",
    "results, details = run_ode_solver(system, slope_func, events=event_func, method=\"LSODA\")\n",
    "results.index /= 24*60*60*365\n",
    "\n",
    "plot(results.x_m,results.y_m)\n",
    "plot(results.x_e,results.y_e)"
   ]
  },
  {
   "cell_type": "code",
   "execution_count": 335,
   "metadata": {},
   "outputs": [],
   "source": [
    "def error_func(rockets, params):\n",
    "    params = Params(params, num_rockets=rockets)\n",
    "    system = make_system(params)\n",
    "    results, details = run_ode_solver(system, slope_func, events=event_func, method=\"LSODA\")\n",
    "    results.index /= 24*60*60*365\n",
    "    return abs(results.index[-1] - 3.52)"
   ]
  },
  {
   "cell_type": "code",
   "execution_count": 349,
   "metadata": {},
   "outputs": [
    {
     "name": "stdout",
     "output_type": "stream",
     "text": [
      "180000000.0 136.3132489281276\n",
      "182857142.85714287 152.2267403958579\n",
      "185714285.7142857 123.92892998253046\n",
      "188571428.57142857 121.55790768713968\n",
      "191428571.42857143 44.08567279322594\n",
      "194285714.2857143 30.881192479710148\n",
      "197142857.14285713 45.699701848479464\n",
      "200000000.0 39.806601773336915\n",
      "202857142.85714287 89.84737224724157\n",
      "205714285.71428573 47.36136616190376\n",
      "208571428.57142857 2.5136675326965863\n",
      "211428571.42857143 78.98888866335841\n",
      "214285714.28571427 5.345155899282434\n",
      "217142857.14285713 2.148718537067864\n",
      "220000000.0 8.380343479797308\n",
      "222857142.85714287 97.08918638314553\n",
      "225714285.71428573 28.182071603322466\n",
      "228571428.57142857 102.51965488288094\n",
      "231428571.42857143 59.40555336646757\n",
      "234285714.2857143 16.61516793476928\n",
      "237142857.14285713 76.50132405053435\n",
      "240000000.0 115.42650021265004\n"
     ]
    }
   ],
   "source": [
    "rocks = linspace(1.8e8, 2.4e8, 22)\n",
    "sweep = SweepSeries()\n",
    "\n",
    "for rock in rocks:\n",
    "    dday = error_func(rock, params)*365\n",
    "    print(rock, dday)\n",
    "    sweep[rock] = dday"
   ]
  },
  {
   "cell_type": "code",
   "execution_count": 350,
   "metadata": {},
   "outputs": [
    {
     "data": {
      "image/png": "[encoded data removed]",
      "text/plain": [
       "<Figure size 432x288 with 1 Axes>"
      ]
     },
     "metadata": {
      "needs_background": "light"
     },
     "output_type": "display_data"
    }
   ],
   "source": [
    "plot(sweep, color='C2')\n",
    "decorate(xlabel='Number of Rockets (count)',\n",
    "         ylabel='Error (yr)',\n",
    "         title='Time vs Number of Rockets',\n",
    "         legend=False)\n"
   ]
  },
  {
   "cell_type": "code",
   "execution_count": 338,
   "metadata": {},
   "outputs": [
    {
     "name": "stdout",
     "output_type": "stream",
     "text": [
      "Wall time: 11min 57s\n"
     ]
    }
   ],
   "source": [
    "%time res = min_bounded(error_func, [1e7, 1e10], params)"
   ]
  },
  {
   "cell_type": "code",
   "execution_count": 339,
   "metadata": {},
   "outputs": [
    {
     "data": {
      "text/html": [
       "<div>\n",
       "<style scoped>\n",
       "    .dataframe tbody tr th:only-of-type {\n",
       "        vertical-align: middle;\n",
       "    }\n",
       "\n",
       "    .dataframe tbody tr th {\n",
       "        vertical-align: top;\n",
       "    }\n",
       "\n",
       "    .dataframe thead th {\n",
       "        text-align: right;\n",
       "    }\n",
       "</style>\n",
       "<table border=\"1\" class=\"dataframe\">\n",
       "  <thead>\n",
       "    <tr style=\"text-align: right;\">\n",
       "      <th></th>\n",
       "      <th>values</th>\n",
       "    </tr>\n",
       "  </thead>\n",
       "  <tbody>\n",
       "    <tr>\n",
       "      <th>fun</th>\n",
       "      <td>0.035087</td>\n",
       "    </tr>\n",
       "    <tr>\n",
       "      <th>status</th>\n",
       "      <td>0</td>\n",
       "    </tr>\n",
       "    <tr>\n",
       "      <th>success</th>\n",
       "      <td>True</td>\n",
       "    </tr>\n",
       "    <tr>\n",
       "      <th>message</th>\n",
       "      <td>Solution found.</td>\n",
       "    </tr>\n",
       "    <tr>\n",
       "      <th>x</th>\n",
       "      <td>2.4448e+08</td>\n",
       "    </tr>\n",
       "    <tr>\n",
       "      <th>nfev</th>\n",
       "      <td>35</td>\n",
       "    </tr>\n",
       "  </tbody>\n",
       "</table>\n",
       "</div>"
      ],
      "text/plain": [
       "fun               0.035087\n",
       "status                   0\n",
       "success               True\n",
       "message    Solution found.\n",
       "x               2.4448e+08\n",
       "nfev                    35\n",
       "dtype: object"
      ]
     },
     "execution_count": 339,
     "metadata": {},
     "output_type": "execute_result"
    }
   ],
   "source": [
    "res"
   ]
  },
  {
   "cell_type": "code",
   "execution_count": 344,
   "metadata": {},
   "outputs": [
    {
     "data": {
      "text/html": [
       "<div>\n",
       "<style scoped>\n",
       "    .dataframe tbody tr th:only-of-type {\n",
       "        vertical-align: middle;\n",
       "    }\n",
       "\n",
       "    .dataframe tbody tr th {\n",
       "        vertical-align: top;\n",
       "    }\n",
       "\n",
       "    .dataframe thead th {\n",
       "        text-align: right;\n",
       "    }\n",
       "</style>\n",
       "<table border=\"1\" class=\"dataframe\">\n",
       "  <thead>\n",
       "    <tr style=\"text-align: right;\">\n",
       "      <th></th>\n",
       "      <th>values</th>\n",
       "    </tr>\n",
       "  </thead>\n",
       "  <tbody>\n",
       "    <tr>\n",
       "      <th>sol</th>\n",
       "      <td>None</td>\n",
       "    </tr>\n",
       "    <tr>\n",
       "      <th>t_events</th>\n",
       "      <td>[[98834730.31202394]]</td>\n",
       "    </tr>\n",
       "    <tr>\n",
       "      <th>nfev</th>\n",
       "      <td>36335</td>\n",
       "    </tr>\n",
       "    <tr>\n",
       "      <th>njev</th>\n",
       "      <td>340</td>\n",
       "    </tr>\n",
       "    <tr>\n",
       "      <th>nlu</th>\n",
       "      <td>340</td>\n",
       "    </tr>\n",
       "    <tr>\n",
       "      <th>status</th>\n",
       "      <td>1</td>\n",
       "    </tr>\n",
       "    <tr>\n",
       "      <th>message</th>\n",
       "      <td>A termination event occurred.</td>\n",
       "    </tr>\n",
       "    <tr>\n",
       "      <th>success</th>\n",
       "      <td>True</td>\n",
       "    </tr>\n",
       "  </tbody>\n",
       "</table>\n",
       "</div>"
      ],
      "text/plain": [
       "sol                                  None\n",
       "t_events            [[98834730.31202394]]\n",
       "nfev                                36335\n",
       "njev                                  340\n",
       "nlu                                   340\n",
       "status                                  1\n",
       "message     A termination event occurred.\n",
       "success                              True\n",
       "dtype: object"
      ]
     },
     "execution_count": 344,
     "metadata": {},
     "output_type": "execute_result"
    },
    {
     "data": {
      "image/png": "[encoded data removed]",
      "text/plain": [
       "<Figure size 432x288 with 1 Axes>"
      ]
     },
     "metadata": {
      "needs_background": "light"
     },
     "output_type": "display_data"
    }
   ],
   "source": [
    "results, details = run_ode_solver(system,slope_func, events=event_func,method='LSODA')\n",
    "plot(results.x_m,results.y_m)\n",
    "plot(results.x_e,results.y_e)\n",
    "details"
   ]
  },
  {
   "cell_type": "code",
   "execution_count": 345,
   "metadata": {},
   "outputs": [
    {
     "data": {
      "text/plain": [
       "3.1340287389657515"
      ]
     },
     "execution_count": 345,
     "metadata": {},
     "output_type": "execute_result"
    }
   ],
   "source": [
    "results.index[-1] /( 24*60*60*365)"
   ]
  },
  {
   "cell_type": "code",
   "execution_count": 323,
   "metadata": {},
   "outputs": [
    {
     "data": {
      "text/html": [
       "<div>\n",
       "<style scoped>\n",
       "    .dataframe tbody tr th:only-of-type {\n",
       "        vertical-align: middle;\n",
       "    }\n",
       "\n",
       "    .dataframe tbody tr th {\n",
       "        vertical-align: top;\n",
       "    }\n",
       "\n",
       "    .dataframe thead th {\n",
       "        text-align: right;\n",
       "    }\n",
       "</style>\n",
       "<table border=\"1\" class=\"dataframe\">\n",
       "  <thead>\n",
       "    <tr style=\"text-align: right;\">\n",
       "      <th></th>\n",
       "      <th>Me</th>\n",
       "      <th>Mm</th>\n",
       "      <th>x_m</th>\n",
       "      <th>y_m</th>\n",
       "      <th>vx_m</th>\n",
       "      <th>vy_m</th>\n",
       "      <th>x_e</th>\n",
       "      <th>y_e</th>\n",
       "      <th>vx_e</th>\n",
       "      <th>vy_e</th>\n",
       "    </tr>\n",
       "  </thead>\n",
       "  <tbody>\n",
       "    <tr>\n",
       "      <th>0.000000e+00</th>\n",
       "      <td>5.972200e+24</td>\n",
       "      <td>7.342000e+22</td>\n",
       "      <td>362600000.0</td>\n",
       "      <td>0.000000</td>\n",
       "      <td>0.000000e+00</td>\n",
       "      <td>1078.2</td>\n",
       "      <td>0.000000e+00</td>\n",
       "      <td>0.000000e+00</td>\n",
       "      <td>0.000000e+00</td>\n",
       "      <td>0.000000e+00</td>\n",
       "    </tr>\n",
       "    <tr>\n",
       "      <th>2.932923e-08</th>\n",
       "      <td>5.972200e+24</td>\n",
       "      <td>7.342000e+22</td>\n",
       "      <td>362600000.0</td>\n",
       "      <td>0.000032</td>\n",
       "      <td>-8.891307e-11</td>\n",
       "      <td>1078.2</td>\n",
       "      <td>3.205873e-20</td>\n",
       "      <td>0.000000e+00</td>\n",
       "      <td>1.093064e-12</td>\n",
       "      <td>9.532742e-26</td>\n",
       "    </tr>\n",
       "    <tr>\n",
       "      <th>5.865846e-08</th>\n",
       "      <td>5.972200e+24</td>\n",
       "      <td>7.342000e+22</td>\n",
       "      <td>362600000.0</td>\n",
       "      <td>0.000063</td>\n",
       "      <td>-1.778261e-10</td>\n",
       "      <td>1078.2</td>\n",
       "      <td>9.617619e-20</td>\n",
       "      <td>5.591760e-33</td>\n",
       "      <td>2.186128e-12</td>\n",
       "      <td>2.859823e-25</td>\n",
       "    </tr>\n",
       "    <tr>\n",
       "      <th>2.933510e-04</th>\n",
       "      <td>5.972200e+24</td>\n",
       "      <td>7.342000e+22</td>\n",
       "      <td>362600000.0</td>\n",
       "      <td>0.316291</td>\n",
       "      <td>-8.893086e-07</td>\n",
       "      <td>1078.2</td>\n",
       "      <td>1.603578e-12</td>\n",
       "      <td>6.992497e-22</td>\n",
       "      <td>1.093283e-08</td>\n",
       "      <td>4.768278e-18</td>\n",
       "    </tr>\n",
       "    <tr>\n",
       "      <th>5.866433e-04</th>\n",
       "      <td>5.972200e+24</td>\n",
       "      <td>7.342000e+22</td>\n",
       "      <td>362600000.0</td>\n",
       "      <td>0.632519</td>\n",
       "      <td>-1.778439e-06</td>\n",
       "      <td>1078.2</td>\n",
       "      <td>6.413029e-12</td>\n",
       "      <td>4.194939e-21</td>\n",
       "      <td>2.186347e-08</td>\n",
       "      <td>1.906930e-17</td>\n",
       "    </tr>\n",
       "  </tbody>\n",
       "</table>\n",
       "</div>"
      ],
      "text/plain": [
       "                        Me            Mm          x_m       y_m          vx_m  \\\n",
       "0.000000e+00  5.972200e+24  7.342000e+22  362600000.0  0.000000  0.000000e+00   \n",
       "2.932923e-08  5.972200e+24  7.342000e+22  362600000.0  0.000032 -8.891307e-11   \n",
       "5.865846e-08  5.972200e+24  7.342000e+22  362600000.0  0.000063 -1.778261e-10   \n",
       "2.933510e-04  5.972200e+24  7.342000e+22  362600000.0  0.316291 -8.893086e-07   \n",
       "5.866433e-04  5.972200e+24  7.342000e+22  362600000.0  0.632519 -1.778439e-06   \n",
       "\n",
       "                vy_m           x_e           y_e          vx_e          vy_e  \n",
       "0.000000e+00  1078.2  0.000000e+00  0.000000e+00  0.000000e+00  0.000000e+00  \n",
       "2.932923e-08  1078.2  3.205873e-20  0.000000e+00  1.093064e-12  9.532742e-26  \n",
       "5.865846e-08  1078.2  9.617619e-20  5.591760e-33  2.186128e-12  2.859823e-25  \n",
       "2.933510e-04  1078.2  1.603578e-12  6.992497e-22  1.093283e-08  4.768278e-18  \n",
       "5.866433e-04  1078.2  6.413029e-12  4.194939e-21  2.186347e-08  1.906930e-17  "
      ]
     },
     "execution_count": 323,
     "metadata": {},
     "output_type": "execute_result"
    }
   ],
   "source": [
    "results.head()"
   ]
  },
  {
   "cell_type": "code",
   "execution_count": 324,
   "metadata": {},
   "outputs": [
    {
     "data": {
      "text/html": [
       "<div>\n",
       "<style scoped>\n",
       "    .dataframe tbody tr th:only-of-type {\n",
       "        vertical-align: middle;\n",
       "    }\n",
       "\n",
       "    .dataframe tbody tr th {\n",
       "        vertical-align: top;\n",
       "    }\n",
       "\n",
       "    .dataframe thead th {\n",
       "        text-align: right;\n",
       "    }\n",
       "</style>\n",
       "<table border=\"1\" class=\"dataframe\">\n",
       "  <thead>\n",
       "    <tr style=\"text-align: right;\">\n",
       "      <th></th>\n",
       "      <th>Me</th>\n",
       "      <th>Mm</th>\n",
       "      <th>x_m</th>\n",
       "      <th>y_m</th>\n",
       "      <th>vx_m</th>\n",
       "      <th>vy_m</th>\n",
       "      <th>x_e</th>\n",
       "      <th>y_e</th>\n",
       "      <th>vx_e</th>\n",
       "      <th>vy_e</th>\n",
       "    </tr>\n",
       "  </thead>\n",
       "  <tbody>\n",
       "    <tr>\n",
       "      <th>1.234736e+08</th>\n",
       "      <td>5.813009e+24</td>\n",
       "      <td>2.326107e+23</td>\n",
       "      <td>5.773534e+06</td>\n",
       "      <td>1.585608e+09</td>\n",
       "      <td>6599.096654</td>\n",
       "      <td>3451.905793</td>\n",
       "      <td>4.915831e+06</td>\n",
       "      <td>1.596395e+09</td>\n",
       "      <td>-264.065053</td>\n",
       "      <td>-124.876015</td>\n",
       "    </tr>\n",
       "    <tr>\n",
       "      <th>1.234739e+08</th>\n",
       "      <td>5.813009e+24</td>\n",
       "      <td>2.326111e+23</td>\n",
       "      <td>7.716005e+06</td>\n",
       "      <td>1.586790e+09</td>\n",
       "      <td>6400.434906</td>\n",
       "      <td>4501.921123</td>\n",
       "      <td>4.838103e+06</td>\n",
       "      <td>1.596352e+09</td>\n",
       "      <td>-256.115916</td>\n",
       "      <td>-166.893252</td>\n",
       "    </tr>\n",
       "    <tr>\n",
       "      <th>1.234742e+08</th>\n",
       "      <td>5.813008e+24</td>\n",
       "      <td>2.326115e+23</td>\n",
       "      <td>9.556396e+06</td>\n",
       "      <td>1.588299e+09</td>\n",
       "      <td>5898.637038</td>\n",
       "      <td>5636.260862</td>\n",
       "      <td>4.764459e+06</td>\n",
       "      <td>1.596295e+09</td>\n",
       "      <td>-236.036553</td>\n",
       "      <td>-212.284929</td>\n",
       "    </tr>\n",
       "    <tr>\n",
       "      <th>1.234745e+08</th>\n",
       "      <td>5.813008e+24</td>\n",
       "      <td>2.326119e+23</td>\n",
       "      <td>1.119349e+07</td>\n",
       "      <td>1.590141e+09</td>\n",
       "      <td>5025.471417</td>\n",
       "      <td>6721.397101</td>\n",
       "      <td>4.698949e+06</td>\n",
       "      <td>1.596225e+09</td>\n",
       "      <td>-201.096563</td>\n",
       "      <td>-255.707843</td>\n",
       "    </tr>\n",
       "    <tr>\n",
       "      <th>1.234745e+08</th>\n",
       "      <td>5.813008e+24</td>\n",
       "      <td>2.326120e+23</td>\n",
       "      <td>1.138383e+07</td>\n",
       "      <td>1.590402e+09</td>\n",
       "      <td>4885.179629</td>\n",
       "      <td>6848.094765</td>\n",
       "      <td>4.691333e+06</td>\n",
       "      <td>1.596215e+09</td>\n",
       "      <td>-195.482723</td>\n",
       "      <td>-260.777803</td>\n",
       "    </tr>\n",
       "  </tbody>\n",
       "</table>\n",
       "</div>"
      ],
      "text/plain": [
       "                        Me            Mm           x_m           y_m  \\\n",
       "1.234736e+08  5.813009e+24  2.326107e+23  5.773534e+06  1.585608e+09   \n",
       "1.234739e+08  5.813009e+24  2.326111e+23  7.716005e+06  1.586790e+09   \n",
       "1.234742e+08  5.813008e+24  2.326115e+23  9.556396e+06  1.588299e+09   \n",
       "1.234745e+08  5.813008e+24  2.326119e+23  1.119349e+07  1.590141e+09   \n",
       "1.234745e+08  5.813008e+24  2.326120e+23  1.138383e+07  1.590402e+09   \n",
       "\n",
       "                     vx_m         vy_m           x_e           y_e  \\\n",
       "1.234736e+08  6599.096654  3451.905793  4.915831e+06  1.596395e+09   \n",
       "1.234739e+08  6400.434906  4501.921123  4.838103e+06  1.596352e+09   \n",
       "1.234742e+08  5898.637038  5636.260862  4.764459e+06  1.596295e+09   \n",
       "1.234745e+08  5025.471417  6721.397101  4.698949e+06  1.596225e+09   \n",
       "1.234745e+08  4885.179629  6848.094765  4.691333e+06  1.596215e+09   \n",
       "\n",
       "                    vx_e        vy_e  \n",
       "1.234736e+08 -264.065053 -124.876015  \n",
       "1.234739e+08 -256.115916 -166.893252  \n",
       "1.234742e+08 -236.036553 -212.284929  \n",
       "1.234745e+08 -201.096563 -255.707843  \n",
       "1.234745e+08 -195.482723 -260.777803  "
      ]
     },
     "execution_count": 324,
     "metadata": {},
     "output_type": "execute_result"
    }
   ],
   "source": [
    "results.tail()"
   ]
  },
  {
   "cell_type": "code",
   "execution_count": null,
   "metadata": {},
   "outputs": [],
   "source": []
  },
  {
   "cell_type": "code",
   "execution_count": null,
   "metadata": {},
   "outputs": [],
   "source": []
  },
  {
   "cell_type": "markdown",
   "metadata": {},
   "source": [
    "## Code we are not currently using"
   ]
  },
  {
   "cell_type": "code",
   "execution_count": 336,
   "metadata": {},
   "outputs": [],
   "source": [
    "def fsolve2(func, x0, *args, **options):\n",
    "    \"\"\"Return the roots of the (non-linear) equations\n",
    "    defined by func(x) = 0 given a starting estimate.\n",
    "\n",
    "    Uses scipy.optimize.fsolve, with extra error-checking.\n",
    "\n",
    "    func: function to find the roots of\n",
    "    x0: scalar or array, initial guess\n",
    "    args: additional positional arguments are passed along to fsolve,\n",
    "          which passes them along to func\n",
    "\n",
    "    returns: solution as an array\n",
    "    \"\"\"\n",
    "    # make sure we can run the given function with x0\n",
    "    try:\n",
    "        func(x0, *args)\n",
    "    except Exception as e:\n",
    "        msg = \"\"\"Before running scipy.optimize.fsolve, I tried\n",
    "                 running the error function you provided with the x0\n",
    "                 you provided, and I got the following error:\"\"\"\n",
    "        logger.error(msg)\n",
    "        raise(e)\n",
    "\n",
    "    # make the tolerance more forgiving than the default\n",
    "    underride(options, xtol=1e-2)\n",
    "\n",
    "    x0 = magnitude(x0)\n",
    "\n",
    "    # run fsolve\n",
    "    with units_off():\n",
    "        result = scipy.optimize.fsolve(func, x0, args=args, **options)\n",
    "\n",
    "    return result"
   ]
  }
 ],
 "metadata": {
  "kernelspec": {
   "display_name": "Python 3",
   "language": "python",
   "name": "python3"
  },
  "language_info": {
   "codemirror_mode": {
    "name": "ipython",
    "version": 3
   },
   "file_extension": ".py",
   "mimetype": "text/x-python",
   "name": "python",
   "nbconvert_exporter": "python",
   "pygments_lexer": "ipython3",
   "version": "3.6.6"
  }
 },
 "nbformat": 4,
 "nbformat_minor": 2
}
