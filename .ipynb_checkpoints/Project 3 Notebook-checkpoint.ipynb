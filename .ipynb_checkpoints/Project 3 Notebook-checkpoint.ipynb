{
 "cells": [
  {
   "cell_type": "markdown",
   "metadata": {},
   "source": [
    "# Emma and Michael's Dank Boio Modeling and Simulation in Python (Copyright Allen B. Downey) Project Number 3 in the Eleventh Month of the Two Thousand and Eighteenth Year"
   ]
  },
  {
   "cell_type": "code",
   "execution_count": 182,
   "metadata": {},
   "outputs": [],
   "source": [
    "# Configure Jupyter so figures appear in the notebook\n",
    "%matplotlib inline\n",
    "\n",
    "# Configure Jupyter to display the assigned value after an assignment\n",
    "%config InteractiveShell.ast_node_interactivity='last_expr_or_assign'\n",
    "\n",
    "# import functions from the modsim library\n",
    "from modsim import *\n",
    "import math as math\n",
    "\n",
    "#HIIIII"
   ]
  },
  {
   "cell_type": "code",
   "execution_count": 183,
   "metadata": {},
   "outputs": [],
   "source": [
    "N = UNITS.newton\n",
    "kg = UNITS.kilogram\n",
    "m = UNITS.meter\n",
    "s = UNITS.second\n",
    "year = UNITS.years;"
   ]
  },
  {
   "cell_type": "code",
   "execution_count": 184,
   "metadata": {},
   "outputs": [
    {
     "data": {
      "text/html": [
       "<div>\n",
       "<style scoped>\n",
       "    .dataframe tbody tr th:only-of-type {\n",
       "        vertical-align: middle;\n",
       "    }\n",
       "\n",
       "    .dataframe tbody tr th {\n",
       "        vertical-align: top;\n",
       "    }\n",
       "\n",
       "    .dataframe thead th {\n",
       "        text-align: right;\n",
       "    }\n",
       "</style>\n",
       "<table border=\"1\" class=\"dataframe\">\n",
       "  <thead>\n",
       "    <tr style=\"text-align: right;\">\n",
       "      <th></th>\n",
       "      <th>values</th>\n",
       "    </tr>\n",
       "  </thead>\n",
       "  <tbody>\n",
       "    <tr>\n",
       "      <th>mass_earth</th>\n",
       "      <td>5.9724e+24 kilogram</td>\n",
       "    </tr>\n",
       "    <tr>\n",
       "      <th>mass_moon</th>\n",
       "      <td>7.346e+22 kilogram</td>\n",
       "    </tr>\n",
       "    <tr>\n",
       "      <th>orbit_x</th>\n",
       "      <td>363300000.0 meter</td>\n",
       "    </tr>\n",
       "    <tr>\n",
       "      <th>orbit_y</th>\n",
       "      <td>0 meter</td>\n",
       "    </tr>\n",
       "    <tr>\n",
       "      <th>orbit_vx</th>\n",
       "      <td>0.0 meter / second</td>\n",
       "    </tr>\n",
       "    <tr>\n",
       "      <th>orbit_vy</th>\n",
       "      <td>1022.0 meter / second</td>\n",
       "    </tr>\n",
       "  </tbody>\n",
       "</table>\n",
       "</div>"
      ],
      "text/plain": [
       "mass_earth      5.9724e+24 kilogram\n",
       "mass_moon        7.346e+22 kilogram\n",
       "orbit_x           363300000.0 meter\n",
       "orbit_y                     0 meter\n",
       "orbit_vx         0.0 meter / second\n",
       "orbit_vy      1022.0 meter / second\n",
       "dtype: object"
      ]
     },
     "execution_count": 184,
     "metadata": {},
     "output_type": "execute_result"
    }
   ],
   "source": [
    "init = State(mass_earth = 5.9724e24*kg, # Initial mass of earth 5.9722×10^24 kg\n",
    "             mass_moon = 7.346e22*kg, # Initial mass of moon 7.342×10^22 kg\n",
    "             orbit_x = 0.3633e9*m, # Initial orbit position of moon 362,600,000 m at perigee\n",
    "             orbit_y = 0*m,\n",
    "             orbit_vx = 0*m/s,\n",
    "             orbit_vy = 1022*m/s # Initial orbital velocity of moon 1078.2 m/s at perigee\n",
    "            )"
   ]
  },
  {
   "cell_type": "code",
   "execution_count": 185,
   "metadata": {
    "scrolled": true
   },
   "outputs": [
    {
     "data": {
      "text/html": [
       "<div>\n",
       "<style scoped>\n",
       "    .dataframe tbody tr th:only-of-type {\n",
       "        vertical-align: middle;\n",
       "    }\n",
       "\n",
       "    .dataframe tbody tr th {\n",
       "        vertical-align: top;\n",
       "    }\n",
       "\n",
       "    .dataframe thead th {\n",
       "        text-align: right;\n",
       "    }\n",
       "</style>\n",
       "<table border=\"1\" class=\"dataframe\">\n",
       "  <thead>\n",
       "    <tr style=\"text-align: right;\">\n",
       "      <th></th>\n",
       "      <th>values</th>\n",
       "    </tr>\n",
       "  </thead>\n",
       "  <tbody>\n",
       "    <tr>\n",
       "      <th>init</th>\n",
       "      <td>mass_earth      5.9724e+24 kilogram\n",
       "mass_moon ...</td>\n",
       "    </tr>\n",
       "    <tr>\n",
       "      <th>mass_exchanged</th>\n",
       "      <td>0.0 kilogram / second</td>\n",
       "    </tr>\n",
       "    <tr>\n",
       "      <th>radius_earth</th>\n",
       "      <td>&lt;function earth_radius_func at 0x0000018187A97...</td>\n",
       "    </tr>\n",
       "    <tr>\n",
       "      <th>radius_moon</th>\n",
       "      <td>&lt;function moon_radius_func at 0x0000018187A97730&gt;</td>\n",
       "    </tr>\n",
       "    <tr>\n",
       "      <th>G</th>\n",
       "      <td>6.674e-11 meter ** 2 * newton / kilogram ** 2</td>\n",
       "    </tr>\n",
       "    <tr>\n",
       "      <th>time_end</th>\n",
       "      <td>1577846298.735 second</td>\n",
       "    </tr>\n",
       "  </tbody>\n",
       "</table>\n",
       "</div>"
      ],
      "text/plain": [
       "init              mass_earth      5.9724e+24 kilogram\n",
       "mass_moon ...\n",
       "mass_exchanged                                0.0 kilogram / second\n",
       "radius_earth      <function earth_radius_func at 0x0000018187A97...\n",
       "radius_moon       <function moon_radius_func at 0x0000018187A97730>\n",
       "G                     6.674e-11 meter ** 2 * newton / kilogram ** 2\n",
       "time_end                                      1577846298.735 second\n",
       "dtype: object"
      ]
     },
     "execution_count": 185,
     "metadata": {},
     "output_type": "execute_result"
    }
   ],
   "source": [
    "def earth_radius_func(mass):\n",
    "    \"\"\"Computes radius of earth given its mass\n",
    "    \n",
    "    mass: Mass of earth in kilograms\n",
    "    \n",
    "    returns: radius in meters\n",
    "    \"\"\"\n",
    "    density = 5514*kg/m**3 # 5514 kg/m3 from NASA Earth Fact Sheet\n",
    "    new_radius = (3*mass / (4*pi*density))**(1/3)\n",
    "    return new_radius\n",
    "\n",
    "def moon_radius_func(mass):\n",
    "    \"\"\"Computes radius of moon given its mass\n",
    "    \n",
    "    mass: Mass of moon in kilograms\n",
    "    \n",
    "    returns: radius in meters\n",
    "    \"\"\"\n",
    "    density = 3344*kg/m**3 # 3344 kg/m3 from NASA Moon Fact Sheet\n",
    "    new_radius = (3*mass / (4*pi*density))**(1/3)\n",
    "    return new_radius\n",
    "\n",
    "system = System(init = init,\n",
    "                mass_exchanged = 0*kg/s, #kg/s,\n",
    "                radius_earth = earth_radius_func,\n",
    "                radius_moon = moon_radius_func,\n",
    "                G = 6.674e-11*N/kg**2*m**2, #N / kg**2 * m**2\n",
    "                time_end = (50*year).to(s)) "
   ]
  },
  {
   "cell_type": "code",
   "execution_count": 186,
   "metadata": {},
   "outputs": [],
   "source": [
    "def force_net(state, system):\n",
    "    \"\"\"Computes net force on moon.\n",
    "    \n",
    "    state: State object with distance earth mass, moon mass, moon position, and moon velocity\n",
    "    system: System object with rate of mass exchange, earth radius, moon radius, the constant G, and ending time\n",
    "    \n",
    "    returns: net force acting on the moon\n",
    "    \"\"\"\n",
    "    mass_earth, mass_moon, orbit_x, orbit_y, orbit_vx, orbit_vy = state\n",
    "    unpack(system)\n",
    "    \n",
    "    #Gravitational Force\n",
    "    vector_orbit = Vector(orbit_x,orbit_y)\n",
    "    force_gravitation = -(G*mass_earth*mass_moon / vector_orbit.mag**2) * vector_orbit.hat()\n",
    " \n",
    "    \n",
    "    # Moon momass_earthntum contribution\n",
    "    force_collision = 0#mass_exchanged * -Vector(orbit_vx, orbit_vy)\n",
    "    \n",
    "    return force_gravitation + force_collision"
   ]
  },
  {
   "cell_type": "code",
   "execution_count": 187,
   "metadata": {},
   "outputs": [
    {
     "data": {
      "text/html": [
       "[-2.21847847e+20  0.00000000e+00] newton"
      ],
      "text/latex": [
       "$[-2.21847847e+20  0.00000000e+00] newton$"
      ],
      "text/plain": [
       "<Quantity([-2.21847847e+20  0.00000000e+00], 'newton')>"
      ]
     },
     "execution_count": 187,
     "metadata": {},
     "output_type": "execute_result"
    }
   ],
   "source": [
    "net_force(init, system)"
   ]
  },
  {
   "cell_type": "code",
   "execution_count": 188,
   "metadata": {},
   "outputs": [],
   "source": [
    "def slope_func(state,t,system):\n",
    "    \n",
    "    mass_earth,mass_moon,orbit_x,orbit_y,orbit_vx,orbit_vy = state\n",
    "    unpack(system)\n",
    "    velocity_orbit = Vector(orbit_vx,orbit_vy)\n",
    "    \n",
    "    Fnet = net_force(state,system)\n",
    "    \n",
    "    dmass_earthdt = -mass_exchanged\n",
    "    dmass_moondt = mass_exchanged\n",
    "    dxdt = velocity_orbit\n",
    "    dvdt = (Fnet / mass_moon).to_base_units()\n",
    "    \n",
    "    return dmass_earthdt, dmass_moondt, dxdt[0], dxdt[1], dvdt[0],dvdt[1]"
   ]
  },
  {
   "cell_type": "code",
   "execution_count": 189,
   "metadata": {},
   "outputs": [
    {
     "data": {
      "text/plain": [
       "(<Quantity(-0.0, 'kilogram / second')>,\n",
       " <Quantity(0.0, 'kilogram / second')>,\n",
       " <Quantity(0.0, 'meter / second')>,\n",
       " <Quantity(1022.0, 'meter / second')>,\n",
       " <Quantity(-0.003019981575442834, 'meter / second ** 2')>,\n",
       " <Quantity(0.0, 'meter / second ** 2')>)"
      ]
     },
     "execution_count": 189,
     "metadata": {},
     "output_type": "execute_result"
    }
   ],
   "source": [
    "slope_func(init, 0, system)"
   ]
  },
  {
   "cell_type": "code",
   "execution_count": 190,
   "metadata": {},
   "outputs": [],
   "source": [
    "def event_func(state,t,system):\n",
    "    mass_earth,mass_moon,orbit_x,orbit_y,orbit_vx,orbit_vy = state\n",
    "    unpack(system)\n",
    "   \n",
    "    orbit_radius = Vector(orbit_x,orbit_y).mag\n",
    "    collision_radius = radius_earth(mass_earth) + radius_moon(mass_moon)\n",
    "    \n",
    "    #End the simulart if there is a collision OR if the orbital radius exceeds its initial value at apogee\n",
    "    if(orbit_radius < 0.4055e9*m):\n",
    "        return orbit_radius - collision_radius\n",
    "    else:\n",
    "        return 0"
   ]
  },
  {
   "cell_type": "code",
   "execution_count": 191,
   "metadata": {},
   "outputs": [
    {
     "data": {
      "text/html": [
       "355191747.8121871 meter"
      ],
      "text/latex": [
       "$355191747.8121871 meter$"
      ],
      "text/plain": [
       "<Quantity(355191747.8121871, 'meter')>"
      ]
     },
     "execution_count": 191,
     "metadata": {},
     "output_type": "execute_result"
    }
   ],
   "source": [
    "event_func(init,0,system)"
   ]
  },
  {
   "cell_type": "code",
   "execution_count": 202,
   "metadata": {},
   "outputs": [
    {
     "data": {
      "text/html": [
       "<div>\n",
       "<style scoped>\n",
       "    .dataframe tbody tr th:only-of-type {\n",
       "        vertical-align: middle;\n",
       "    }\n",
       "\n",
       "    .dataframe tbody tr th {\n",
       "        vertical-align: top;\n",
       "    }\n",
       "\n",
       "    .dataframe thead th {\n",
       "        text-align: right;\n",
       "    }\n",
       "</style>\n",
       "<table border=\"1\" class=\"dataframe\">\n",
       "  <thead>\n",
       "    <tr style=\"text-align: right;\">\n",
       "      <th></th>\n",
       "      <th>values</th>\n",
       "    </tr>\n",
       "  </thead>\n",
       "  <tbody>\n",
       "    <tr>\n",
       "      <th>sol</th>\n",
       "      <td>None</td>\n",
       "    </tr>\n",
       "    <tr>\n",
       "      <th>t_events</th>\n",
       "      <td>[[223195.5667091308]]</td>\n",
       "    </tr>\n",
       "    <tr>\n",
       "      <th>nfev</th>\n",
       "      <td>44</td>\n",
       "    </tr>\n",
       "    <tr>\n",
       "      <th>njev</th>\n",
       "      <td>0</td>\n",
       "    </tr>\n",
       "    <tr>\n",
       "      <th>nlu</th>\n",
       "      <td>0</td>\n",
       "    </tr>\n",
       "    <tr>\n",
       "      <th>status</th>\n",
       "      <td>1</td>\n",
       "    </tr>\n",
       "    <tr>\n",
       "      <th>message</th>\n",
       "      <td>A termination event occurred.</td>\n",
       "    </tr>\n",
       "    <tr>\n",
       "      <th>success</th>\n",
       "      <td>True</td>\n",
       "    </tr>\n",
       "  </tbody>\n",
       "</table>\n",
       "</div>"
      ],
      "text/plain": [
       "sol                                  None\n",
       "t_events            [[223195.5667091308]]\n",
       "nfev                                   44\n",
       "njev                                    0\n",
       "nlu                                     0\n",
       "status                                  1\n",
       "message     A termination event occurred.\n",
       "success                              True\n",
       "dtype: object"
      ]
     },
     "execution_count": 202,
     "metadata": {},
     "output_type": "execute_result"
    }
   ],
   "source": [
    "results, details = run_ode_solver(system, slope_func,events=event_func,  method=\"RK23\")\n",
    "details"
   ]
  },
  {
   "cell_type": "code",
   "execution_count": 205,
   "metadata": {
    "scrolled": true
   },
   "outputs": [
    {
     "data": {
      "text/plain": [
       "[<matplotlib.lines.Line2D at 0x18187c66a90>]"
      ]
     },
     "execution_count": 205,
     "metadata": {},
     "output_type": "execute_result"
    },
    {
     "data": {
      "image/png": "[encoded data removed]",
      "text/plain": [
       "<Figure size 432x288 with 1 Axes>"
      ]
     },
     "metadata": {
      "needs_background": "light"
     },
     "output_type": "display_data"
    }
   ],
   "source": [
    "orbit_radius = (results.orbit_x**2 + results.orbit_y**2)**0.5\n",
    "plot(orbit_radius)"
   ]
  },
  {
   "cell_type": "code",
   "execution_count": 195,
   "metadata": {
    "scrolled": false
   },
   "outputs": [
    {
     "data": {
      "image/png": "[encoded data removed]",
      "text/plain": [
       "<Figure size 432x288 with 1 Axes>"
      ]
     },
     "metadata": {
      "needs_background": "light"
     },
     "output_type": "display_data"
    }
   ],
   "source": [
    "plot(results.orbit_y,results.orbit_x)\n",
    "decorate(title='destroy')"
   ]
  },
  {
   "cell_type": "code",
   "execution_count": 196,
   "metadata": {
    "scrolled": false
   },
   "outputs": [
    {
     "data": {
      "text/html": [
       "<div>\n",
       "<style scoped>\n",
       "    .dataframe tbody tr th:only-of-type {\n",
       "        vertical-align: middle;\n",
       "    }\n",
       "\n",
       "    .dataframe tbody tr th {\n",
       "        vertical-align: top;\n",
       "    }\n",
       "\n",
       "    .dataframe thead th {\n",
       "        text-align: right;\n",
       "    }\n",
       "</style>\n",
       "<table border=\"1\" class=\"dataframe\">\n",
       "  <thead>\n",
       "    <tr style=\"text-align: right;\">\n",
       "      <th></th>\n",
       "      <th>mass_earth</th>\n",
       "      <th>mass_moon</th>\n",
       "      <th>orbit_x</th>\n",
       "      <th>orbit_y</th>\n",
       "      <th>orbit_vx</th>\n",
       "      <th>orbit_vy</th>\n",
       "    </tr>\n",
       "  </thead>\n",
       "  <tbody>\n",
       "    <tr>\n",
       "      <th>0.000000</th>\n",
       "      <td>5.972400e+24</td>\n",
       "      <td>7.346000e+22</td>\n",
       "      <td>3.633000e+08</td>\n",
       "      <td>0.000000e+00</td>\n",
       "      <td>0.000000e+00</td>\n",
       "      <td>1022.000000</td>\n",
       "    </tr>\n",
       "    <tr>\n",
       "      <th>0.000002</th>\n",
       "      <td>5.972400e+24</td>\n",
       "      <td>7.346000e+22</td>\n",
       "      <td>3.633000e+08</td>\n",
       "      <td>2.000000e-03</td>\n",
       "      <td>-5.909943e-12</td>\n",
       "      <td>1022.000000</td>\n",
       "    </tr>\n",
       "    <tr>\n",
       "      <th>0.000022</th>\n",
       "      <td>5.972400e+24</td>\n",
       "      <td>7.346000e+22</td>\n",
       "      <td>3.633000e+08</td>\n",
       "      <td>2.199999e-02</td>\n",
       "      <td>-6.500937e-11</td>\n",
       "      <td>1022.000000</td>\n",
       "    </tr>\n",
       "    <tr>\n",
       "      <th>0.000217</th>\n",
       "      <td>5.972400e+24</td>\n",
       "      <td>7.346000e+22</td>\n",
       "      <td>3.633000e+08</td>\n",
       "      <td>2.219999e-01</td>\n",
       "      <td>-6.560037e-10</td>\n",
       "      <td>1022.000000</td>\n",
       "    </tr>\n",
       "    <tr>\n",
       "      <th>0.002174</th>\n",
       "      <td>5.972400e+24</td>\n",
       "      <td>7.346000e+22</td>\n",
       "      <td>3.633000e+08</td>\n",
       "      <td>2.221999e+00</td>\n",
       "      <td>-6.565947e-09</td>\n",
       "      <td>1022.000000</td>\n",
       "    </tr>\n",
       "    <tr>\n",
       "      <th>0.021744</th>\n",
       "      <td>5.972400e+24</td>\n",
       "      <td>7.346000e+22</td>\n",
       "      <td>3.633000e+08</td>\n",
       "      <td>2.222199e+01</td>\n",
       "      <td>-6.566538e-08</td>\n",
       "      <td>1022.000000</td>\n",
       "    </tr>\n",
       "    <tr>\n",
       "      <th>0.217438</th>\n",
       "      <td>5.972400e+24</td>\n",
       "      <td>7.346000e+22</td>\n",
       "      <td>3.633000e+08</td>\n",
       "      <td>2.222219e+02</td>\n",
       "      <td>-6.566597e-07</td>\n",
       "      <td>1022.000000</td>\n",
       "    </tr>\n",
       "    <tr>\n",
       "      <th>2.174385</th>\n",
       "      <td>5.972400e+24</td>\n",
       "      <td>7.346000e+22</td>\n",
       "      <td>3.633000e+08</td>\n",
       "      <td>2.222221e+03</td>\n",
       "      <td>-6.566603e-06</td>\n",
       "      <td>1022.000000</td>\n",
       "    </tr>\n",
       "    <tr>\n",
       "      <th>21.743852</th>\n",
       "      <td>5.972400e+24</td>\n",
       "      <td>7.346000e+22</td>\n",
       "      <td>3.633000e+08</td>\n",
       "      <td>2.222222e+04</td>\n",
       "      <td>-6.566603e-05</td>\n",
       "      <td>1022.000000</td>\n",
       "    </tr>\n",
       "    <tr>\n",
       "      <th>217.438520</th>\n",
       "      <td>5.972400e+24</td>\n",
       "      <td>7.346000e+22</td>\n",
       "      <td>3.633000e+08</td>\n",
       "      <td>2.222222e+05</td>\n",
       "      <td>-6.566602e-04</td>\n",
       "      <td>1022.000000</td>\n",
       "    </tr>\n",
       "    <tr>\n",
       "      <th>2174.385204</th>\n",
       "      <td>5.972400e+24</td>\n",
       "      <td>7.346000e+22</td>\n",
       "      <td>3.633000e+08</td>\n",
       "      <td>2.222222e+06</td>\n",
       "      <td>-6.566480e-03</td>\n",
       "      <td>1021.999980</td>\n",
       "    </tr>\n",
       "    <tr>\n",
       "      <th>21743.852041</th>\n",
       "      <td>5.972400e+24</td>\n",
       "      <td>7.346000e+22</td>\n",
       "      <td>3.632993e+08</td>\n",
       "      <td>2.222220e+07</td>\n",
       "      <td>-6.554357e-02</td>\n",
       "      <td>1021.997997</td>\n",
       "    </tr>\n",
       "    <tr>\n",
       "      <th>64915.830152</th>\n",
       "      <td>5.972400e+24</td>\n",
       "      <td>7.346000e+22</td>\n",
       "      <td>3.632937e+08</td>\n",
       "      <td>6.634360e+07</td>\n",
       "      <td>-1.928535e-01</td>\n",
       "      <td>1021.982528</td>\n",
       "    </tr>\n",
       "    <tr>\n",
       "      <th>129004.985829</th>\n",
       "      <td>5.972400e+24</td>\n",
       "      <td>7.346000e+22</td>\n",
       "      <td>3.632756e+08</td>\n",
       "      <td>1.318402e+08</td>\n",
       "      <td>-3.662024e-01</td>\n",
       "      <td>1021.935579</td>\n",
       "    </tr>\n",
       "    <tr>\n",
       "      <th>223195.566709</th>\n",
       "      <td>5.972400e+24</td>\n",
       "      <td>7.346000e+22</td>\n",
       "      <td>3.632310e+08</td>\n",
       "      <td>2.280924e+08</td>\n",
       "      <td>-5.707652e-01</td>\n",
       "      <td>1021.835637</td>\n",
       "    </tr>\n",
       "  </tbody>\n",
       "</table>\n",
       "</div>"
      ],
      "text/plain": [
       "                 mass_earth     mass_moon       orbit_x       orbit_y  \\\n",
       "0.000000       5.972400e+24  7.346000e+22  3.633000e+08  0.000000e+00   \n",
       "0.000002       5.972400e+24  7.346000e+22  3.633000e+08  2.000000e-03   \n",
       "0.000022       5.972400e+24  7.346000e+22  3.633000e+08  2.199999e-02   \n",
       "0.000217       5.972400e+24  7.346000e+22  3.633000e+08  2.219999e-01   \n",
       "0.002174       5.972400e+24  7.346000e+22  3.633000e+08  2.221999e+00   \n",
       "0.021744       5.972400e+24  7.346000e+22  3.633000e+08  2.222199e+01   \n",
       "0.217438       5.972400e+24  7.346000e+22  3.633000e+08  2.222219e+02   \n",
       "2.174385       5.972400e+24  7.346000e+22  3.633000e+08  2.222221e+03   \n",
       "21.743852      5.972400e+24  7.346000e+22  3.633000e+08  2.222222e+04   \n",
       "217.438520     5.972400e+24  7.346000e+22  3.633000e+08  2.222222e+05   \n",
       "2174.385204    5.972400e+24  7.346000e+22  3.633000e+08  2.222222e+06   \n",
       "21743.852041   5.972400e+24  7.346000e+22  3.632993e+08  2.222220e+07   \n",
       "64915.830152   5.972400e+24  7.346000e+22  3.632937e+08  6.634360e+07   \n",
       "129004.985829  5.972400e+24  7.346000e+22  3.632756e+08  1.318402e+08   \n",
       "223195.566709  5.972400e+24  7.346000e+22  3.632310e+08  2.280924e+08   \n",
       "\n",
       "                   orbit_vx     orbit_vy  \n",
       "0.000000       0.000000e+00  1022.000000  \n",
       "0.000002      -5.909943e-12  1022.000000  \n",
       "0.000022      -6.500937e-11  1022.000000  \n",
       "0.000217      -6.560037e-10  1022.000000  \n",
       "0.002174      -6.565947e-09  1022.000000  \n",
       "0.021744      -6.566538e-08  1022.000000  \n",
       "0.217438      -6.566597e-07  1022.000000  \n",
       "2.174385      -6.566603e-06  1022.000000  \n",
       "21.743852     -6.566603e-05  1022.000000  \n",
       "217.438520    -6.566602e-04  1022.000000  \n",
       "2174.385204   -6.566480e-03  1021.999980  \n",
       "21743.852041  -6.554357e-02  1021.997997  \n",
       "64915.830152  -1.928535e-01  1021.982528  \n",
       "129004.985829 -3.662024e-01  1021.935579  \n",
       "223195.566709 -5.707652e-01  1021.835637  "
      ]
     },
     "execution_count": 196,
     "metadata": {},
     "output_type": "execute_result"
    }
   ],
   "source": [
    "results"
   ]
  },
  {
   "cell_type": "code",
   "execution_count": null,
   "metadata": {},
   "outputs": [],
   "source": []
  }
 ],
 "metadata": {
  "kernelspec": {
   "display_name": "Python 3",
   "language": "python",
   "name": "python3"
  },
  "language_info": {
   "codemirror_mode": {
    "name": "ipython",
    "version": 3
   },
   "file_extension": ".py",
   "mimetype": "text/x-python",
   "name": "python",
   "nbconvert_exporter": "python",
   "pygments_lexer": "ipython3",
   "version": "3.6.6"
  }
 },
 "nbformat": 4,
 "nbformat_minor": 2
}
